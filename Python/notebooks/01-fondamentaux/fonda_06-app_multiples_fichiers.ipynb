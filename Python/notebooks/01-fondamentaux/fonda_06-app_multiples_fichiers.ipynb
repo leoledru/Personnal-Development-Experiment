{
 "cells": [
  {
   "cell_type": "code",
   "execution_count": 2,
   "metadata": {},
   "outputs": [],
   "source": [
    "import matplotlib.pyplot as plt\n",
    "import numpy as np\n",
    "import path # librairie tierce, `pip install path.py`\n",
    "\n",
    "%matplotlib inline"
   ]
  },
  {
   "cell_type": "markdown",
   "metadata": {},
   "source": [
    "## Avec path (librairie tierce, renvoie des path.Path)"
   ]
  },
  {
   "cell_type": "code",
   "execution_count": 3,
   "metadata": {},
   "outputs": [
    {
     "name": "stdout",
     "output_type": "stream",
     "text": [
      "<class 'list'>\n",
      "../../data/pac_power/7.csv <class 'path.Path'>\n",
      "../../data/pac_power/3.csv <class 'path.Path'>\n",
      "../../data/pac_power/10.csv <class 'path.Path'>\n",
      "../../data/pac_power/1.csv <class 'path.Path'>\n",
      "../../data/pac_power/12.csv <class 'path.Path'>\n",
      "../../data/pac_power/5.csv <class 'path.Path'>\n",
      "../../data/pac_power/2.csv <class 'path.Path'>\n",
      "../../data/pac_power/11.csv <class 'path.Path'>\n",
      "../../data/pac_power/9.csv <class 'path.Path'>\n",
      "../../data/pac_power/4.csv <class 'path.Path'>\n",
      "../../data/pac_power/8.csv <class 'path.Path'>\n",
      "../../data/pac_power/6.csv <class 'path.Path'>\n"
     ]
    }
   ],
   "source": [
    "data_folder = path.Path(\"../../data/pac_power/\") # save the path as a string\n",
    "files = data_folder.glob(\"*.csv\") # extract all .csv from the path\n",
    "print(type(files))\n",
    "for file in files:\n",
    "    print(file, type(file))\n"
   ]
  },
  {
   "cell_type": "code",
   "execution_count": 4,
   "metadata": {},
   "outputs": [
    {
     "data": {
      "text/plain": [
       "[Path(u'../../data/pac_power/1.csv'),\n",
       " Path(u'../../data/pac_power/10.csv'),\n",
       " Path(u'../../data/pac_power/11.csv'),\n",
       " Path(u'../../data/pac_power/12.csv'),\n",
       " Path(u'../../data/pac_power/2.csv'),\n",
       " Path(u'../../data/pac_power/3.csv'),\n",
       " Path(u'../../data/pac_power/4.csv'),\n",
       " Path(u'../../data/pac_power/5.csv'),\n",
       " Path(u'../../data/pac_power/6.csv'),\n",
       " Path(u'../../data/pac_power/7.csv'),\n",
       " Path(u'../../data/pac_power/8.csv'),\n",
       " Path(u'../../data/pac_power/9.csv')]"
      ]
     },
     "execution_count": 4,
     "metadata": {},
     "output_type": "execute_result"
    }
   ],
   "source": [
    "sorted(files)"
   ]
  },
  {
   "cell_type": "markdown",
   "metadata": {},
   "source": [
    "il est possible d'ordonner une liste. Mais ce sera l'ordre naturel des objets dans la liste qui différera si ce sont des str, des int....\n",
    "\n",
    "De plus, il est parfois impossible d'ordonner des objets hétérogènes."
   ]
  },
  {
   "cell_type": "code",
   "execution_count": 7,
   "metadata": {},
   "outputs": [
    {
     "data": {
      "text/plain": [
       "True"
      ]
     },
     "execution_count": 7,
     "metadata": {},
     "output_type": "execute_result"
    }
   ],
   "source": [
    "\"7\" > 9"
   ]
  },
  {
   "cell_type": "code",
   "execution_count": 8,
   "metadata": {},
   "outputs": [
    {
     "data": {
      "text/plain": [
       "[9, '7']"
      ]
     },
     "execution_count": 8,
     "metadata": {},
     "output_type": "execute_result"
    }
   ],
   "source": [
    "sorted([9, \"7\"])"
   ]
  },
  {
   "cell_type": "markdown",
   "metadata": {},
   "source": [
    "Mais `sorted` prend un argument `key` supplémentaire : une fonction permettant de convertir les objets de façon à les comparer entre eux."
   ]
  },
  {
   "cell_type": "code",
   "execution_count": 9,
   "metadata": {},
   "outputs": [
    {
     "data": {
      "text/plain": [
       "['7', 9]"
      ]
     },
     "execution_count": 9,
     "metadata": {},
     "output_type": "execute_result"
    }
   ],
   "source": [
    "sorted([9, \"7\"], key=float)"
   ]
  },
  {
   "cell_type": "markdown",
   "metadata": {},
   "source": [
    "Il est possible d'utiliser cet argument pour ordonner nos fichiers !"
   ]
  },
  {
   "cell_type": "code",
   "execution_count": 4,
   "metadata": {},
   "outputs": [],
   "source": [
    "def extract_number_from_file(file):\n",
    "    return int(file.basename().stripext()) # basename = conserve only the name / stripext = remove the extention\n"
   ]
  },
  {
   "cell_type": "code",
   "execution_count": 11,
   "metadata": {},
   "outputs": [
    {
     "name": "stdout",
     "output_type": "stream",
     "text": [
      "../../data/pac_power/6.csv\n"
     ]
    },
    {
     "data": {
      "text/plain": [
       "6"
      ]
     },
     "execution_count": 11,
     "metadata": {},
     "output_type": "execute_result"
    }
   ],
   "source": [
    "print(file)\n",
    "extract_number_from_file(file)"
   ]
  },
  {
   "cell_type": "code",
   "execution_count": 5,
   "metadata": {},
   "outputs": [
    {
     "name": "stdout",
     "output_type": "stream",
     "text": [
      "../../data/pac_power/1.csv <class 'path.Path'>\n",
      "../../data/pac_power/2.csv <class 'path.Path'>\n",
      "../../data/pac_power/3.csv <class 'path.Path'>\n",
      "../../data/pac_power/4.csv <class 'path.Path'>\n",
      "../../data/pac_power/5.csv <class 'path.Path'>\n",
      "../../data/pac_power/6.csv <class 'path.Path'>\n",
      "../../data/pac_power/7.csv <class 'path.Path'>\n",
      "../../data/pac_power/8.csv <class 'path.Path'>\n",
      "../../data/pac_power/9.csv <class 'path.Path'>\n",
      "../../data/pac_power/10.csv <class 'path.Path'>\n",
      "../../data/pac_power/11.csv <class 'path.Path'>\n",
      "../../data/pac_power/12.csv <class 'path.Path'>\n"
     ]
    }
   ],
   "source": [
    "files = path.Path(\"../../data/pac_power/\").files(\"*.csv\")\n",
    "for file in sorted(files,\n",
    "                   key=extract_number_from_file):\n",
    "    print(file, type(file))"
   ]
  },
  {
   "cell_type": "markdown",
   "metadata": {},
   "source": [
    "### Analyser ces différents fichiers"
   ]
  },
  {
   "cell_type": "code",
   "execution_count": 6,
   "metadata": {},
   "outputs": [
    {
     "data": {
      "text/plain": [
       "list"
      ]
     },
     "execution_count": 6,
     "metadata": {},
     "output_type": "execute_result"
    }
   ],
   "source": [
    "files = path.Path(\"../../data/pac_power/\").files(\"*.csv\")\n",
    "type(files)"
   ]
  },
  {
   "cell_type": "markdown",
   "metadata": {},
   "source": [
    "On va utiliser un dictionnaire pour stocker les différentes données : ce dictionnaire contiendra en clé *le numéro du mois* et en valeur *le tableau numpy contenant les données*."
   ]
  },
  {
   "cell_type": "code",
   "execution_count": 7,
   "metadata": {},
   "outputs": [],
   "source": [
    "import calendar"
   ]
  },
  {
   "cell_type": "code",
   "execution_count": 8,
   "metadata": {},
   "outputs": [
    {
     "name": "stdout",
     "output_type": "stream",
     "text": [
      "January\n",
      "February\n",
      "March\n",
      "April\n",
      "May\n",
      "June\n",
      "July\n",
      "August\n",
      "September\n",
      "October\n",
      "November\n",
      "December\n"
     ]
    }
   ],
   "source": [
    "data_dict = {}\n",
    "for file in sorted(files, key=extract_number_from_file):\n",
    "    month_number = extract_number_from_file(file)\n",
    "    month_name = calendar.month_name[month_number]\n",
    "    print(month_name)\n",
    "    data_dict[month_number] = np.loadtxt(file, delimiter=\",\")"
   ]
  },
  {
   "cell_type": "code",
   "execution_count": 9,
   "metadata": {},
   "outputs": [
    {
     "name": "stdout",
     "output_type": "stream",
     "text": [
      "(31, 24)\n",
      "(28, 24)\n"
     ]
    }
   ],
   "source": [
    "print(data_dict[1].shape)\n",
    "print(data_dict[2].shape)"
   ]
  },
  {
   "cell_type": "markdown",
   "metadata": {},
   "source": [
    "On peut visualiser l'ensemble des puissance, heure par heure pour chaques jours de chaques mois."
   ]
  },
  {
   "cell_type": "code",
   "execution_count": 27,
   "metadata": {},
   "outputs": [
    {
     "name": "stdout",
     "output_type": "stream",
     "text": [
      "[1888.0, 1888.0, 1903.0, 1242.0, 1070.0, 0.0, 0.0, 0.0, 0.0, 1212.0, 1919.0, 1896.0]\n",
      "1919.0\n"
     ]
    }
   ],
   "source": [
    "print([d.max() for d in data_dict.values()]) # max of each month\n",
    "print(max([d.max() for d in data_dict.values()])) # max(max of each month)"
   ]
  },
  {
   "cell_type": "code",
   "execution_count": 10,
   "metadata": {},
   "outputs": [
    {
     "name": "stdout",
     "output_type": "stream",
     "text": [
      "[[<matplotlib.axes._subplots.AxesSubplot object at 0x7fd3d24fbc10>\n",
      "  <matplotlib.axes._subplots.AxesSubplot object at 0x7fd3d1b72c90>\n",
      "  <matplotlib.axes._subplots.AxesSubplot object at 0x7fd3d1b2add0>\n",
      "  <matplotlib.axes._subplots.AxesSubplot object at 0x7fd3d1ae6dd0>\n",
      "  <matplotlib.axes._subplots.AxesSubplot object at 0x7fd3d1aa1950>\n",
      "  <matplotlib.axes._subplots.AxesSubplot object at 0x7fd3d1adad90>]\n",
      " [<matplotlib.axes._subplots.AxesSubplot object at 0x7fd3d1a94f10>\n",
      "  <matplotlib.axes._subplots.AxesSubplot object at 0x7fd3d1a4e710>\n",
      "  <matplotlib.axes._subplots.AxesSubplot object at 0x7fd3d1a07b50>\n",
      "  <matplotlib.axes._subplots.AxesSubplot object at 0x7fd3d19c6810>\n",
      "  <matplotlib.axes._subplots.AxesSubplot object at 0x7fd3d1981c50>\n",
      "  <matplotlib.axes._subplots.AxesSubplot object at 0x7fd3d193c8d0>]]\n"
     ]
    },
    {
     "data": {
      "image/png": "[encoded data removed]",
      "text/plain": [
       "<Figure size 864x360 with 13 Axes>"
      ]
     },
     "metadata": {
      "needs_background": "light"
     },
     "output_type": "display_data"
    }
   ],
   "source": [
    "fig, axs = plt.subplots(2, 6, sharex=\"all\", sharey=\"all\",\n",
    "                        figsize=(12, 5), constrained_layout=True) # create the subplot\n",
    "power_max = max([d.max() for d in data_dict.values()]) # global max (for set the maximum of pcolormesh)\n",
    "\n",
    "print(axs) # why ?\n",
    "\n",
    "for i, ax in enumerate(axs.flatten(), 1): # axs.flatten = collapse of axs on 1 dimension\n",
    "    pcm = ax.pcolormesh(data_dict[i], vmin=0, vmax=power_max)\n",
    "    ax.set_title(calendar.month_name[i])\n",
    "    ax.set_ylim(31, 1)\n",
    "[ax.set_ylabel(\"day\") for ax in axs[:, 0]]\n",
    "[ax.set_xlabel(\"hour\") for ax in axs[1, :]]\n",
    "\n",
    "fig.colorbar(pcm, ax=axs.flatten().tolist(),\n",
    "             shrink=0.95, label=\"PAC Power (W)\");"
   ]
  },
  {
   "cell_type": "markdown",
   "metadata": {},
   "source": [
    "Il est également possible de calculer un certain nombre de métriques pour chaques mois :"
   ]
  },
  {
   "cell_type": "code",
   "execution_count": 11,
   "metadata": {},
   "outputs": [
    {
     "name": "stdout",
     "output_type": "stream",
     "text": [
      "January\n",
      "    mean: 482.427 W\n",
      "    max: 1888 W (13/01 3H)\n",
      "    std: 500.357\n",
      "    % func: 55.5108\n",
      "    \n",
      "February\n",
      "    mean: 789.438 W\n",
      "    max: 1888 W (06/02 3H)\n",
      "    std: 678.609\n",
      "    % func: 67.5595\n",
      "    \n",
      "March\n",
      "    mean: 352.702 W\n",
      "    max: 1903 W (23/03 4H)\n",
      "    std: 539.484\n",
      "    % func: 36.1559\n",
      "    \n",
      "April\n",
      "    mean: 21.8069 W\n",
      "    max: 1242 W (13/04 2H)\n",
      "    std: 134.532\n",
      "    % func: 3.05556\n",
      "    \n",
      "May\n",
      "    mean: 35.8817 W\n",
      "    max: 1070 W (14/05 18H)\n",
      "    std: 135.335\n",
      "    % func: 8.19892\n",
      "    \n",
      "June\n",
      "    mean: 0 W\n",
      "    max: 0 W \n",
      "    std: 0\n",
      "    % func: 0\n",
      "    \n",
      "July\n",
      "    mean: 0 W\n",
      "    max: 0 W \n",
      "    std: 0\n",
      "    % func: 0\n",
      "    \n",
      "August\n",
      "    mean: 0 W\n",
      "    max: 0 W \n",
      "    std: 0\n",
      "    % func: 0\n",
      "    \n",
      "September\n",
      "    mean: 0 W\n",
      "    max: 0 W \n",
      "    std: 0\n",
      "    % func: 0\n",
      "    \n",
      "October\n",
      "    mean: 21.5968 W\n",
      "    max: 1212 W (31/10 2H)\n",
      "    std: 126.837\n",
      "    % func: 2.95699\n",
      "    \n",
      "November\n",
      "    mean: 453.224 W\n",
      "    max: 1919 W (15/11 3H)\n",
      "    std: 542.299\n",
      "    % func: 49.4444\n",
      "    \n",
      "December\n",
      "    mean: 790.179 W\n",
      "    max: 1896 W (19/12 3H)\n",
      "    std: 645.053\n",
      "    % func: 73.7903\n",
      "    \n"
     ]
    }
   ],
   "source": [
    "for month_number, data in sorted(data_dict.items()):\n",
    "    month_name = calendar.month_name[month_number]\n",
    "    \n",
    "    mean_power = data.mean()\n",
    "    max_power = data.max()\n",
    "    std_power = data.std()\n",
    "    day_max, hour_max = np.unravel_index(np.argmax(data), data.shape)\n",
    "    frac_func = data[np.where(data != 0)].size / data.size\n",
    "    \n",
    "    print(f\"\"\"{month_name}\n",
    "    mean: {mean_power:g} W\n",
    "    max: {max_power:g} W {f'({day_max + 1:02d}/{month_number:02d} {hour_max}H)' if max_power != 0 else ''}\n",
    "    std: {std_power:g}\n",
    "    % func: {frac_func*100:g}\n",
    "    \"\"\")"
   ]
  },
  {
   "attachments": {
    "image.png": {
     "image/png": "[encoded data removed]"
    }
   },
   "cell_type": "markdown",
   "metadata": {},
   "source": [
    "## Exercice: affichage de l'energie journalière\n",
    "\n",
    "L'objectif de l'exercice est d'obtenir une énergie dépensé chaques jour par la PAC, en kWH puis en MJ.\n",
    "\n",
    "Indices : il est possible de *concatener* les array numpy avec `np.concatenate(une_liste_d'array)`. La somme se fait avec `np.sum(array)` et accepte un argument `axis` pour ne sommer d'une dimension.\n",
    "\n",
    "![image.png](attachment:image.png)"
   ]
  },
  {
   "cell_type": "code",
   "execution_count": 15,
   "metadata": {},
   "outputs": [
    {
     "name": "stdout",
     "output_type": "stream",
     "text": [
      "<class 'numpy.ndarray'>\n",
      "(365, 24)\n",
      "(365,)\n"
     ]
    }
   ],
   "source": [
    "list_of_arrays = list(data_dict.values()) # extract all dict values into a list\n",
    "annual_pac_power = np.concatenate(list_of_arrays, axis=0) # concatenate all the cells of list\n",
    "print(type(annual_pac_power)) # annual_pac_power is an array\n",
    "\n",
    "print(annual_pac_power.shape) # On vérifie que les dimensions sont cohérentes (365 days, 24 hours)\n",
    "daily_energy = (annual_pac_power / 1000).sum(axis=1) # W -> kW, puis somme sur la dimension des heures.\n",
    "print(daily_energy.shape) # On vérifie que le résultat ai une dimension avec 365 valeurs."
   ]
  },
  {
   "cell_type": "code",
   "execution_count": 16,
   "metadata": {},
   "outputs": [
    {
     "data": {
      "text/plain": [
       "(0, 33.8604)"
      ]
     },
     "execution_count": 16,
     "metadata": {},
     "output_type": "execute_result"
    },
    {
     "data": {
      "image/png": "[encoded data removed]",
      "text/plain": [
       "<Figure size 432x288 with 1 Axes>"
      ]
     },
     "metadata": {
      "needs_background": "light"
     },
     "output_type": "display_data"
    }
   ],
   "source": [
    "fig, ax = plt.subplots() # on crée la figure et l'axe (qui contiendra les courbes)\n",
    "ax.plot(daily_energy, color=\"black\")  # on affiche l'énergie journalière\n",
    "# Ajout des labels\n",
    "ax.set_xlabel(\"Day of year\")\n",
    "ax.set_ylabel(\"Daily energy consumption (kWh)\")\n",
    "# Gestion des échelles\n",
    "ax.set_xlim(0, 365)\n",
    "ax.set_ylim(0)"
   ]
  },
  {
   "cell_type": "markdown",
   "metadata": {},
   "source": [
    "[***Prochaine section***](fonda_07-conditions.ipynb)"
   ]
  }
 ],
 "metadata": {
  "kernelspec": {
   "display_name": "Python 3",
   "language": "python",
   "name": "python3"
  },
  "language_info": {
   "codemirror_mode": {
    "name": "ipython",
    "version": 3
   },
   "file_extension": ".py",
   "mimetype": "text/x-python",
   "name": "python",
   "nbconvert_exporter": "python",
   "pygments_lexer": "ipython3",
   "version": "3.7.4"
  }
 },
 "nbformat": 4,
 "nbformat_minor": 4
}
