{
 "cells": [
  {
   "cell_type": "markdown",
   "metadata": {},
   "source": [
    "# Rendre son code plus robuste en gérant les exception"
   ]
  },
  {
   "cell_type": "markdown",
   "metadata": {},
   "source": [
    "Tout programmeur, débutants comme expérimentés, rencontrent des erreurs. Leur gestion peuvent être très frustrante et rendre la programmation laborieuse. Comprendre les différents types d'erreurs peut beaucoup aider : une fois que vous savez *pourquoi* certaines erreurs arrivent, elles deviennent plus facile à corriger.\n",
    "\n",
    "Les erreurs en Python se présentent sous une forme très spécifique, appelé une *traceback*. Par example:"
   ]
  },
  {
   "cell_type": "code",
   "execution_count": 2,
   "metadata": {},
   "outputs": [
    {
     "name": "stdout",
     "output_type": "stream",
     "text": [
      "strawberry\n"
     ]
    }
   ],
   "source": [
    "# This code has an intentional error. You can type it directly or\n",
    "# use it for reference to understand the error message below.\n",
    "def favorite_ice_cream():\n",
    "    ice_creams = [\n",
    "        \"chocolate\",\n",
    "        \"vanilla\",\n",
    "        \"strawberry\"\n",
    "    ]\n",
    "    print(ice_creams[2])\n",
    "\n",
    "favorite_ice_cream()\n"
   ]
  },
  {
   "cell_type": "markdown",
   "metadata": {},
   "source": [
    "On remarque que la traceback possède deux niveaux. Ce nombre de niveaux est determinée par le nombre de flèches sur la gauche.\n",
    "\n",
    "1. La première flèche pointe vers la ligne 11 (`favorite_ice_cream()`).\n",
    "2. La seconde flèche pointe du code dans la fonction `favorite_ice_cream`, à la ligne 9 (`print(ice_creams[3])`)\n",
    "\n",
    "Le dernier niveau pointe là où l'erreur à eu lieu. Les autres niveaux montrent quelle fonction le programme executait pour aller au niveau suivant.\n",
    "\n",
    "Ici, le programme était en train d'executer la fonction `favorite_ice_cream`. Dans cette fonction, le programme a rencontré une erreur ligne 9 en essayant d'executer l'instruction `print(ice_creams[3])`.\n",
    "\n",
    "> Les tracebacks peuvent être beaucoup plus longue. La longueur de la traceback ne reflète pas la gravité de l'erreur. La plupart du temps, seul le dernier niveau importe, et vous pouvez aller directement tout en bas de la traceback.\n",
    "\n",
    "Qu'est-ce que cette erreur nous indique? A la fin de la traceback, Python nous indique le type de l'erreur (ici une `IndexError`) et un message plus détaillé (ici, `list index out of range`).\n",
    "\n",
    "Dans le cas où vous rencontrez une erreur qui vous est inconnu et que vous ne comprenez pas, il est important de bien regarder la traceback. Si vous corrigez une erreur mais que vous en rencontrez une autre, vous pourrez vérifier que l'erreur a bien changé. De plus, savoir *où* est l'erreur peut êre suffisant pour la corriger, même si vous ne comprenez pas complètement le message.\n",
    "\n",
    "Si vous rencontrez une erreur inconnue, regardez la [documentation officielle des erreurs](http://docs.python.org/3/library/exceptions.html). Notez qu'il est possible de créer des erreurs \"custom\", et que vous ne trouverez pas toutes les erreurs dans ce document. Ces dernières devrait toutefois posséder un message suffisement explicite."
   ]
  },
  {
   "cell_type": "markdown",
   "metadata": {},
   "source": [
    "## Erreurs de syntaxe"
   ]
  },
  {
   "cell_type": "markdown",
   "metadata": {},
   "source": [
    "Quand vous oubliez un `:` a la fin d'une ligne, vous trompez dans l'indentation ou oubliez une parenthèse, vous rencontrerez une erreur de syntaxe (`SyntaxError`). Dans ce cas, Python est incapable de comprendre vos instructions."
   ]
  },
  {
   "cell_type": "code",
   "execution_count": null,
   "metadata": {},
   "outputs": [],
   "source": [
    "def some_function()\n",
    "    msg = \"hello, world!\"\n",
    "    print(msg)\n",
    "     return msg\n"
   ]
  },
  {
   "cell_type": "markdown",
   "metadata": {},
   "source": [
    "Il y a ici deux erreurs : le `:` oublié à la fin de la définition de la fonction et un problème d'indentation :"
   ]
  },
  {
   "cell_type": "code",
   "execution_count": null,
   "metadata": {},
   "outputs": [],
   "source": [
    "def some_function():\n",
    "    msg = \"hello, world!\"\n",
    "    print(msg)\n",
    "     return msg\n"
   ]
  },
  {
   "cell_type": "markdown",
   "metadata": {},
   "source": [
    "> Tabulation et espaces: si vous mélangez tabulation et espaces, l'interpréteur sera incapable de comprendre votre programme. Ces erreurs peuvent être difficile à trouver, car ce sont des espaces blancs dans les deux cas. La plupart des éditeurs utilisent d'office des espaces quand vous utilisez la touche `Tab`. La pep8 suggère d'utiliser 4 espaces pour une tabulation."
   ]
  },
  {
   "cell_type": "code",
   "execution_count": null,
   "metadata": {},
   "outputs": [],
   "source": [
    "def some_function():\n",
    "\tmsg = \"hello, world!\"\n",
    "\tprint(msg)\n",
    "        return msg"
   ]
  },
  {
   "cell_type": "markdown",
   "metadata": {},
   "source": [
    "## `NameError`\n",
    "\n",
    "Cette erreur se rencontre quand vous tentez d'utiliser une variable qui n'est pas assigné."
   ]
  },
  {
   "cell_type": "code",
   "execution_count": null,
   "metadata": {},
   "outputs": [],
   "source": [
    "print(a)"
   ]
  },
  {
   "cell_type": "markdown",
   "metadata": {},
   "source": [
    "Cela peut arriver parce que vous vouliez utiliser une chaine de caractère mais vous avez oubliés les guillemets."
   ]
  },
  {
   "cell_type": "code",
   "execution_count": null,
   "metadata": {},
   "outputs": [],
   "source": [
    "print(hello)"
   ]
  },
  {
   "cell_type": "markdown",
   "metadata": {},
   "source": [
    "Ou que vous ayez juste oublié d'initialiser une variable."
   ]
  },
  {
   "cell_type": "code",
   "execution_count": 3,
   "metadata": {},
   "outputs": [],
   "source": [
    "def increment():\n",
    "    count = 0\n",
    "    for number in range(10):\n",
    "        count = count + number\n",
    "    print(\"The count is:\", count)"
   ]
  },
  {
   "cell_type": "code",
   "execution_count": 4,
   "metadata": {},
   "outputs": [
    {
     "name": "stdout",
     "output_type": "stream",
     "text": [
      "The count is: 45\n"
     ]
    }
   ],
   "source": [
    "increment()"
   ]
  },
  {
   "cell_type": "markdown",
   "metadata": {},
   "source": [
    "Une dernière possibilité est que vous ayez fait une faute de frappe"
   ]
  },
  {
   "cell_type": "code",
   "execution_count": null,
   "metadata": {},
   "outputs": [],
   "source": [
    "Count = 0\n",
    "for number in range(10):\n",
    "    count = count + number\n",
    "print(\"The count is:\", count)"
   ]
  },
  {
   "cell_type": "markdown",
   "metadata": {},
   "source": [
    "## `IndexError`"
   ]
  },
  {
   "cell_type": "code",
   "execution_count": null,
   "metadata": {},
   "outputs": [],
   "source": [
    "letters = ['a', 'b', 'c']\n",
    "print(\"Letter #1 is\", letters[0])\n",
    "print(\"Letter #2 is\", letters[1])\n",
    "print(\"Letter #3 is\", letters[2])\n",
    "print(\"Letter #4 is\", letters[3])"
   ]
  },
  {
   "cell_type": "code",
   "execution_count": 5,
   "metadata": {},
   "outputs": [],
   "source": [
    "my_dict = {\"gt\": 7}"
   ]
  },
  {
   "cell_type": "code",
   "execution_count": 7,
   "metadata": {},
   "outputs": [
    {
     "data": {
      "text/plain": [
       "7"
      ]
     },
     "execution_count": 7,
     "metadata": {},
     "output_type": "execute_result"
    }
   ],
   "source": [
    "my_dict[\"gt\"]"
   ]
  },
  {
   "cell_type": "markdown",
   "metadata": {},
   "source": [
    "## `File Errors`"
   ]
  },
  {
   "cell_type": "code",
   "execution_count": null,
   "metadata": {},
   "outputs": [],
   "source": [
    "!rm myfile.txt"
   ]
  },
  {
   "cell_type": "markdown",
   "metadata": {},
   "source": [
    "Vous rencontrerez une erreur si vous essayez de lire un fichier qui n'existe pas."
   ]
  },
  {
   "cell_type": "code",
   "execution_count": 8,
   "metadata": {},
   "outputs": [
    {
     "ename": "FileNotFoundError",
     "evalue": "[Errno 2] No such file or directory: 'myfile.txt'",
     "output_type": "error",
     "traceback": [
      "\u001b[0;31m---------------------------------------------------------------------------\u001b[0m",
      "\u001b[0;31mFileNotFoundError\u001b[0m                         Traceback (most recent call last)",
      "\u001b[0;32m<ipython-input-8-080b0e91cc46>\u001b[0m in \u001b[0;36m<module>\u001b[0;34m\u001b[0m\n\u001b[0;32m----> 1\u001b[0;31m \u001b[0mfile_handle\u001b[0m \u001b[0;34m=\u001b[0m \u001b[0mopen\u001b[0m\u001b[0;34m(\u001b[0m\u001b[0;34m'myfile.txt'\u001b[0m\u001b[0;34m,\u001b[0m \u001b[0;34m'r'\u001b[0m\u001b[0;34m)\u001b[0m\u001b[0;34m\u001b[0m\u001b[0;34m\u001b[0m\u001b[0m\n\u001b[0m",
      "\u001b[0;31mFileNotFoundError\u001b[0m: [Errno 2] No such file or directory: 'myfile.txt'"
     ]
    }
   ],
   "source": [
    "file_handle = open('myfile.txt', 'r')"
   ]
  },
  {
   "cell_type": "markdown",
   "metadata": {},
   "source": [
    "si vous tentez de lire un fichier que vous venez d'ouvrir en écriture, Python vous indiquera une autre erreur."
   ]
  },
  {
   "cell_type": "code",
   "execution_count": 14,
   "metadata": {},
   "outputs": [
    {
     "data": {
      "text/plain": [
       "''"
      ]
     },
     "execution_count": 14,
     "metadata": {},
     "output_type": "execute_result"
    }
   ],
   "source": [
    "file_handle = open('myfile.txt', 'w')\n",
    "file_handle.read()\n",
    "#type(file_handle)"
   ]
  },
  {
   "cell_type": "markdown",
   "metadata": {},
   "source": [
    "## Exercice : trouvez et corrigez les erreurs"
   ]
  },
  {
   "cell_type": "code",
   "execution_count": 16,
   "metadata": {},
   "outputs": [
    {
     "name": "stdout",
     "output_type": "stream",
     "text": [
      "Last day of the week!\n"
     ]
    }
   ],
   "source": [
    "# This code has an intentional error. Do not type it directly;\n",
    "# use it for reference to understand the error message below.\n",
    "def print_message(day):\n",
    "    messages = {\n",
    "        \"monday\": \"Hello, world!\",\n",
    "        \"tuesday\": \"Today is Tuesday!\",\n",
    "        \"wednesday\": \"It is the middle of the week.\",\n",
    "        \"thursday\": \"Today is Donnerstag in German!\",\n",
    "        \"friday\": \"Last day of the week!\",\n",
    "        \"saturday\": \"Hooray for the weekend!\",\n",
    "        \"sunday\": \"Aw, the weekend is almost over.\"\n",
    "    }\n",
    "    print(messages[day])\n",
    "\n",
    "def print_friday_message():\n",
    "    print_message(\"friday\") # erreur de casse, the key is friday, not Friday\n",
    "\n",
    "print_friday_message()"
   ]
  },
  {
   "cell_type": "code",
   "execution_count": 17,
   "metadata": {},
   "outputs": [],
   "source": [
    "def another_function():\n",
    "    print(\"Syntax errors are annoying.\")\n",
    "    print(\"But at least Python tells us about them!\")\n",
    "    print(\"So they are usually not too hard to fix.\")"
   ]
  },
  {
   "cell_type": "code",
   "execution_count": 18,
   "metadata": {},
   "outputs": [
    {
     "name": "stdout",
     "output_type": "stream",
     "text": [
      "abbabbabba\n"
     ]
    }
   ],
   "source": [
    "message = \"\"\n",
    "for number in range(10):\n",
    "    # use a if the number is a multiple of 3, otherwise use b\n",
    "    if (number % 3) == 0:\n",
    "        message = message + \"a\"\n",
    "    else:\n",
    "        message = message + \"b\"\n",
    "print(message)\n"
   ]
  },
  {
   "cell_type": "code",
   "execution_count": 19,
   "metadata": {},
   "outputs": [
    {
     "name": "stdout",
     "output_type": "stream",
     "text": [
      "My favorite season is  Winter\n"
     ]
    }
   ],
   "source": [
    "seasons = ['Spring', 'Summer', 'Fall', 'Winter']\n",
    "print('My favorite season is ', seasons[3])"
   ]
  },
  {
   "cell_type": "markdown",
   "metadata": {},
   "source": [
    "## Réagir à une exception rencontrée\n",
    "\n",
    "Que faire lorsqu'une erreur est rencontré lors de l'execution, mais que cette erreur est attendue, et qu'elle ne devrait pas empécher le bon déroulement du code? On va \"attraper\" l'erreur et gérer ce cas de figure spécifique. Cela se fait avec le triptique `try/except/finally` :\n",
    "\n",
    "```python\n",
    "try:\n",
    "    do_stuff_that_lead_to_a_potential_error()\n",
    "except ThePotentialError:\n",
    "    do_stuff_and_deal_with_the_error()\n",
    "except AnOtherPotentialError:\n",
    "    do_stuff_and_deal_with_the_second_potential_error()\n",
    "finally:\n",
    "    do_stuff_that_should_be_done_anyway()\n",
    "```\n",
    "\n",
    "Il est ainsi possible de se contenter d'ignorer une erreur potentielle, de réagir à une erreur attendu, ou de renseigner plus de détails sur une erreur avant de la soulever de nouveau. Par exemple :"
   ]
  },
  {
   "cell_type": "code",
   "execution_count": 20,
   "metadata": {},
   "outputs": [],
   "source": [
    "def get_if_exists_else_None(a_dict, key):\n",
    "    try:\n",
    "        return a_dict[key]\n",
    "    except KeyError:\n",
    "        print(f\"Oups ! {key} not in the dictionnary. Return None instead\")\n",
    "        return None"
   ]
  },
  {
   "cell_type": "code",
   "execution_count": 22,
   "metadata": {},
   "outputs": [
    {
     "name": "stdout",
     "output_type": "stream",
     "text": [
      "1\n",
      "Oups ! t not in the dictionnary. Return None instead\n",
      "None\n"
     ]
    }
   ],
   "source": [
    "my_dict = {\"a\": 1, \"b\": 2}\n",
    "print(get_if_exists_else_None(my_dict, \"a\"))\n",
    "print(get_if_exists_else_None(my_dict, \"t\"))"
   ]
  },
  {
   "cell_type": "markdown",
   "metadata": {},
   "source": [
    "`finally` est très important pour gérer des cas où il est absolument nécessaire de gérer quelque chose, même en cas d'erreur d'execution du code, comme la fermeture d'un fichier par exemple. Ainsi\n",
    "\n",
    "```python\n",
    "try:\n",
    "    f = open(\"filename\", \"w\")\n",
    "    do_something_that_lead_to_an_error(f)\n",
    "finally:\n",
    "    f.close()\n",
    "```\n",
    "\n",
    "Garantira que le fichier sera bien fermé à la fin, même si les instructions du block `except` mènent à une erreur.\n",
    "\n",
    "C'est d'ailleur l'utilité des *context manager* qui se présentent sous la forme\n",
    "\n",
    "```python\n",
    "with my_context_manager(args) as a_variable:\n",
    "    do_stuff_with(a_variable)\n",
    "```\n",
    "\n",
    "Qui correspondrait à peu près à\n",
    "\n",
    "```python\n",
    "try:\n",
    "    a_variable = my_context_manager(args)\n",
    "    do_stuff_with(a_variable)\n",
    "finally:\n",
    "    do_some_cleanup_with(a_variable)\n",
    "```\n",
    "\n",
    "On rencontre souvent les context managers lorsqu'un objet représente quelque chose qu'il faut initialiser pour s'en servir puis fermer ou nettoyer. Parmi les plus utiles, on rencontre\n",
    "\n",
    "```python\n",
    "with open(\"filename\", \"w\") as f:\n",
    "    do_something(f)\n",
    "```\n",
    "\n",
    "qui va automatiquement fermer le fichier à la sortie du block `with`."
   ]
  },
  {
   "cell_type": "markdown",
   "metadata": {},
   "source": [
    "## Soulever une exception dans son code\n",
    "\n",
    "On utilisera le mot clé `raise` suivi d'une exception (cohérente vis à vis de l'erreur rencontrée) et d'un message (bien entendu explicite)."
   ]
  },
  {
   "cell_type": "code",
   "execution_count": 23,
   "metadata": {},
   "outputs": [
    {
     "ename": "TypeError",
     "evalue": "should_be_a_string(=5) should be a str type, is <class 'int'> instead.",
     "output_type": "error",
     "traceback": [
      "\u001b[0;31m---------------------------------------------------------------------------\u001b[0m",
      "\u001b[0;31mTypeError\u001b[0m                                 Traceback (most recent call last)",
      "\u001b[0;32m<ipython-input-23-e0206771f54d>\u001b[0m in \u001b[0;36m<module>\u001b[0;34m\u001b[0m\n\u001b[1;32m      2\u001b[0m \u001b[0;34m\u001b[0m\u001b[0m\n\u001b[1;32m      3\u001b[0m \u001b[0;32mif\u001b[0m \u001b[0;32mnot\u001b[0m \u001b[0misinstance\u001b[0m\u001b[0;34m(\u001b[0m\u001b[0mshould_be_a_str\u001b[0m\u001b[0;34m,\u001b[0m \u001b[0mstr\u001b[0m\u001b[0;34m)\u001b[0m\u001b[0;34m:\u001b[0m\u001b[0;34m\u001b[0m\u001b[0;34m\u001b[0m\u001b[0m\n\u001b[0;32m----> 4\u001b[0;31m     \u001b[0;32mraise\u001b[0m \u001b[0mTypeError\u001b[0m\u001b[0;34m(\u001b[0m\u001b[0;34mf\"should_be_a_string(={should_be_a_str}) should be a str type, is {type(should_be_a_str)} instead.\"\u001b[0m\u001b[0;34m)\u001b[0m\u001b[0;34m\u001b[0m\u001b[0;34m\u001b[0m\u001b[0m\n\u001b[0m",
      "\u001b[0;31mTypeError\u001b[0m: should_be_a_string(=5) should be a str type, is <class 'int'> instead."
     ]
    }
   ],
   "source": [
    "should_be_a_str = 5\n",
    "\n",
    "if not isinstance(should_be_a_str, str):\n",
    "    raise TypeError(f\"should_be_a_string(={should_be_a_str}) should be a str type, is {type(should_be_a_str)} instead.\")"
   ]
  },
  {
   "cell_type": "markdown",
   "metadata": {},
   "source": [
    "Notez bien que cette façon de faire, tester un type ou plus généralement faire des tests sur le contenu d'une variabke n'est pas la façon *pythonique* de gérer cette situation.\n",
    "\n",
    "On préfèrera *essayer et s'excuser en cas d'erreur* que de *demander la permission* (EAFP: “it’s easier to ask for forgiveness than permission” VS LBYL: “look before you leap”) [(pour plus de détails)](https://devblogs.microsoft.com/python/idiomatic-python-eafp-versus-lbyl/).\n",
    "\n",
    "Par exemple :"
   ]
  },
  {
   "cell_type": "code",
   "execution_count": 24,
   "metadata": {},
   "outputs": [
    {
     "ename": "ValueError",
     "evalue": "could not convert string to float: 'Mike'",
     "output_type": "error",
     "traceback": [
      "\u001b[0;31m---------------------------------------------------------------------------\u001b[0m",
      "\u001b[0;31mValueError\u001b[0m                                Traceback (most recent call last)",
      "\u001b[0;32m<ipython-input-24-cf913551356e>\u001b[0m in \u001b[0;36m<module>\u001b[0;34m\u001b[0m\n\u001b[1;32m      1\u001b[0m \u001b[0mshould_be_a_float\u001b[0m \u001b[0;34m=\u001b[0m \u001b[0;34m\"Mike\"\u001b[0m\u001b[0;34m\u001b[0m\u001b[0;34m\u001b[0m\u001b[0m\n\u001b[0;32m----> 2\u001b[0;31m \u001b[0mprint\u001b[0m\u001b[0;34m(\u001b[0m\u001b[0mfloat\u001b[0m\u001b[0;34m(\u001b[0m\u001b[0mshould_be_a_float\u001b[0m\u001b[0;34m)\u001b[0m\u001b[0;34m)\u001b[0m\u001b[0;34m\u001b[0m\u001b[0;34m\u001b[0m\u001b[0m\n\u001b[0m",
      "\u001b[0;31mValueError\u001b[0m: could not convert string to float: 'Mike'"
     ]
    }
   ],
   "source": [
    "should_be_a_float = \"Mike\"\n",
    "print(float(should_be_a_float))"
   ]
  },
  {
   "cell_type": "markdown",
   "metadata": {},
   "source": [
    "De cette façon, une erreur (suffisament explicite) est bien remonté, et tout objet qui peut être convertit en flottant sera accepté :"
   ]
  },
  {
   "cell_type": "code",
   "execution_count": 25,
   "metadata": {},
   "outputs": [
    {
     "name": "stdout",
     "output_type": "stream",
     "text": [
      "5.0\n"
     ]
    }
   ],
   "source": [
    "should_be_a_float = \"5\"\n",
    "print(float(should_be_a_float))"
   ]
  },
  {
   "cell_type": "code",
   "execution_count": null,
   "metadata": {},
   "outputs": [],
   "source": []
  }
 ],
 "metadata": {
  "kernelspec": {
   "display_name": "Python 3",
   "language": "python",
   "name": "python3"
  },
  "language_info": {
   "codemirror_mode": {
    "name": "ipython",
    "version": 3
   },
   "file_extension": ".py",
   "mimetype": "text/x-python",
   "name": "python",
   "nbconvert_exporter": "python",
   "pygments_lexer": "ipython3",
   "version": "3.7.4"
  }
 },
 "nbformat": 4,
 "nbformat_minor": 4
}
