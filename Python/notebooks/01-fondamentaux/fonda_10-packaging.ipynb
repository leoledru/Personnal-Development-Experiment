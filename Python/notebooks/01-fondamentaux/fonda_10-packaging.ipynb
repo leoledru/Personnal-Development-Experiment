{
 "cells": [
  {
   "cell_type": "markdown",
   "metadata": {},
   "source": [
    "# Organiser un package python\n",
    "\n",
    "On a vu qu'un dossier contenant un fichier `__init__.py` pouvait être importé comme une librairie python.\n",
    "\n",
    "Une librairie n'est rien d'autre que ça : un dossier contenant des fichiers python correctement organisé et contenant quelques fichiers de configs supplémentaires permettant de gérer\n",
    "\n",
    "- comment la librairie doit être testé\n",
    "- quel est son nom\n",
    "- de quels autres packages il dépend..."
   ]
  },
  {
   "cell_type": "markdown",
   "metadata": {},
   "source": [
    "Prenons l'exemple d'une librairie :\n",
    "```\n",
    ".\n",
    "├── build  # si il faut compiler des extension bas niveau (C, Fortran)\n",
    "├── dist  # contient des archives pouvant être distribué (via PyPI ou autre)\n",
    "│   ├── energyplus_wrapper-0.8.1-py2.py3-none-any.whl\n",
    "│   └── energyplus_wrapper-0.8.1.tar.gz\n",
    "├── energyplus_wrapper  # le module en tant que tel\n",
    "│   ├── energyplus_wrapper.egg-info\n",
    "│   ├── env_manager.py\n",
    "│   ├── __init__.py  # nécessaire pour importer le dossier en tant que module\n",
    "│   ├── runner.py\n",
    "│   ├── simulation.py\n",
    "│   └── utils.py\n",
    "├── LICENSE  # optionnel mais recommandé\n",
    "├── README.md  # optionnel, fortement recommandé\n",
    "├── setup.cfg  # contient les configs du package\n",
    "├── setup.py  # permet d'installer le package avec pip install\n",
    "└── tests  # contient les tests unitaires\n",
    "    ├── Energy+.idd\n",
    "    ├── EnergyPlus-8-7-0\n",
    "    ├── in_8-7-0.idf\n",
    "    ├── in.epw\n",
    "    └── test_run.py\n",
    "```"
   ]
  },
  {
   "cell_type": "markdown",
   "metadata": {},
   "source": [
    "Pour plus de détails sur le packaging python :\n",
    "\n",
    "https://packaging.python.org/tutorials/packaging-projects/\n",
    "\n",
    "https://setuptools.readthedocs.io/en/latest/setuptools.html"
   ]
  },
  {
   "cell_type": "code",
   "execution_count": null,
   "metadata": {},
   "outputs": [],
   "source": []
  }
 ],
 "metadata": {
  "kernelspec": {
   "display_name": "Python 3",
   "language": "python",
   "name": "python3"
  },
  "language_info": {
   "codemirror_mode": {
    "name": "ipython",
    "version": 3
   },
   "file_extension": ".py",
   "mimetype": "text/x-python",
   "name": "python",
   "nbconvert_exporter": "python",
   "pygments_lexer": "ipython3",
   "version": "3.7.4"
  }
 },
 "nbformat": 4,
 "nbformat_minor": 4
}
