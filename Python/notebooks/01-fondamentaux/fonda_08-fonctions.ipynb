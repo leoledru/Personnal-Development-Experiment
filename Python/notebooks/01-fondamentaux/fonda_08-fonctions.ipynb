{
 "cells": [
  {
   "cell_type": "markdown",
   "metadata": {},
   "source": [
    "# Créer des fonctions"
   ]
  },
  {
   "cell_type": "markdown",
   "metadata": {},
   "source": [
    "Nous avons déjà croisé certaines fonction, et nous avons même eu l'occasion d'en créer une dans les sections précédentes. **Revenons plus en détail sur la création d'une fonction**.\n",
    "\n",
    "Une fonction permet de réutiliser facilement des morceaux de code et de les rendre assez modulaire pour l'adapter à différentes entrée à travers ses *arguments*.\n",
    "\n",
    "Prenons un premier exemple, où il s'agira de convertir des température de Fahrenheit en Celsius."
   ]
  },
  {
   "cell_type": "code",
   "execution_count": 2,
   "metadata": {},
   "outputs": [
    {
     "name": "stdout",
     "output_type": "stream",
     "text": [
      "out of function\n"
     ]
    }
   ],
   "source": [
    "def fahr_to_celsius(temp_fahr):\n",
    "    temp_celsius = ((temp_fahr - 32) * (5 / 9))\n",
    "    return temp_celsius\n",
    "print(\"out of function\")"
   ]
  },
  {
   "attachments": {
    "image.png": {
     "image/png": "[encoded data removed]"
    }
   },
   "cell_type": "markdown",
   "metadata": {},
   "source": [
    "![image.png](attachment:image.png)\n",
    "\n",
    "La définition de la fonction commence par `def` suivi du nom de la fonction `fahr_to_celsius` puis d'une liste d'arguments entre parenthèse. Le corps de la fonction est indenté et s'arrête avec un `return` et la fin de l'indentation.\n",
    "\n",
    "A l'appel de la fonction, les valeurs qui lui sont passé son assigné à ces variables (ici `temp`) et peuvent être utilisé *localement*. Si l'on essaye d'accéder à `temp` en dehors de la fonction, Python renvera une erreur. On parle de *scope local* et de *score global*.\n",
    "\n",
    "Dans la fonction on utilise `return` pour récupérer le résultat à l'appel de la fonction.\n",
    "\n",
    "Essayons notre fonction :"
   ]
  },
  {
   "cell_type": "code",
   "execution_count": 3,
   "metadata": {},
   "outputs": [
    {
     "name": "stdout",
     "output_type": "stream",
     "text": [
      "freezing point of water: 0.0 C\n",
      "boiling point of water: 100.0 C\n"
     ]
    }
   ],
   "source": [
    "print('freezing point of water:', fahr_to_celsius(32), 'C')\n",
    "print('boiling point of water:', fahr_to_celsius(212), 'C')"
   ]
  },
  {
   "cell_type": "markdown",
   "metadata": {},
   "source": [
    "Elle s'appelle comme toutes les autres fonction, et nous avons successivement affiché la valeur qu'elle retourne."
   ]
  },
  {
   "cell_type": "markdown",
   "metadata": {},
   "source": [
    "## Composition de fonction\n",
    "\n",
    "Maintenant que l'on a une fonction capable de transformer les °F en °C, écrivons de quoi transformer les °C en K."
   ]
  },
  {
   "cell_type": "code",
   "execution_count": 4,
   "metadata": {},
   "outputs": [
    {
     "name": "stdout",
     "output_type": "stream",
     "text": [
      "freezing point of water in Kelvin: 273.15\n"
     ]
    }
   ],
   "source": [
    "def celsius_to_kelvin(temp_c):\n",
    "    return temp_c + 273.15\n",
    "\n",
    "print('freezing point of water in Kelvin:', celsius_to_kelvin(0.))"
   ]
  },
  {
   "cell_type": "markdown",
   "metadata": {},
   "source": [
    "Et pour convertir de °F en K? Il serait possible d'écrire la formule complète, mais ce n'est pas nécessaire. A la place nous allons composer les deux fonctions précédentes."
   ]
  },
  {
   "cell_type": "code",
   "execution_count": 5,
   "metadata": {},
   "outputs": [
    {
     "name": "stdout",
     "output_type": "stream",
     "text": [
      "boiling point of water in Kelvin: 373.15\n"
     ]
    }
   ],
   "source": [
    "def fahr_to_kelvin(temp_f):\n",
    "    temp_c = fahr_to_celsius(temp_f)\n",
    "    temp_k = celsius_to_kelvin(temp_c)\n",
    "    return temp_k\n",
    "\n",
    "print('boiling point of water in Kelvin:', fahr_to_kelvin(212.0))"
   ]
  },
  {
   "cell_type": "markdown",
   "metadata": {},
   "source": [
    "C'est de cette façon qu'on construit les programmes les plus larges et les plus complexes : les opérations les plus basiques sont défini en premier lieu et les opérations plus complexes proviennent de la combinaison de ces fonctions simples.\n",
    "\n",
    "Les fonctions n'ont pas de tailles limites, elles peuvent faire quelques lignes ou plusieurs dizaine de ligne, mais ne devraient jamais être trop complexes : une règle approximative est qu'une fonction ne devrait pas dépasser la taille d'un écran de beaucoup."
   ]
  },
  {
   "cell_type": "markdown",
   "metadata": {},
   "source": [
    "## Application à nos données"
   ]
  },
  {
   "cell_type": "code",
   "execution_count": 6,
   "metadata": {},
   "outputs": [],
   "source": [
    "import numpy as np\n",
    "import matplotlib.pyplot as plt"
   ]
  },
  {
   "cell_type": "code",
   "execution_count": 7,
   "metadata": {},
   "outputs": [],
   "source": [
    "data = np.loadtxt(\"../../data/CO2_np.csv\", delimiter=\",\")\n",
    "days, minutes = map(np.arange, data.shape) # map prend une fonction et un itérable et va appliquer la fonction à chaque éléments de l'itérable\n",
    "hours = minutes / 60\n",
    "# np.arange est l'equivalent a linspace sous MATLAB"
   ]
  },
  {
   "cell_type": "code",
   "execution_count": 8,
   "metadata": {},
   "outputs": [],
   "source": [
    "def detect_overload(CO2, high_threshold):\n",
    "    return CO2 >= high_threshold\n",
    "\n",
    "def detect_underload(CO2, low_threshold):\n",
    "    return CO2 <= low_threshold\n",
    "\n",
    "def detect_out_range(CO2, high_threshold, low_threshold): # return TRUE if one of the threshold is crossed\n",
    "    return detect_overload(CO2, high_threshold) | detect_underload(CO2, low_threshold)\n",
    "\n",
    "def plot_out_of_range(days, hours, array_CO2, ax=None):\n",
    "    if ax is None: # why ?\n",
    "        fig, ax = plt.subplots()\n",
    "    under = array_CO2.min()\n",
    "    over = array_CO2.max()\n",
    "    out_of_range = detect_out_range(data, low_threshold=under, high_threshold=over)\n",
    "    pcm = ax.pcolormesh(days, hours, out_of_range)\n",
    "    ax.set_xlabel(\"hour\")\n",
    "    ax.set_ylabel(\"day of month\")\n",
    "    return ax"
   ]
  },
  {
   "cell_type": "code",
   "execution_count": 9,
   "metadata": {},
   "outputs": [
    {
     "data": {
      "text/plain": [
       "<matplotlib.axes._subplots.AxesSubplot at 0x7f6821fdb390>"
      ]
     },
     "execution_count": 9,
     "metadata": {},
     "output_type": "execute_result"
    },
    {
     "data": {
      "image/png": "[encoded data removed]",
      "text/plain": [
       "<Figure size 432x288 with 1 Axes>"
      ]
     },
     "metadata": {
      "needs_background": "light"
     },
     "output_type": "display_data"
    }
   ],
   "source": [
    "plot_out_of_range(hours, days, data)"
   ]
  },
  {
   "cell_type": "markdown",
   "metadata": {},
   "source": [
    "### Tester et documenter"
   ]
  },
  {
   "cell_type": "code",
   "execution_count": 10,
   "metadata": {},
   "outputs": [],
   "source": [
    "def offset_mean(data, target_mean_value):\n",
    "    return (data - np.mean(data)) + target_mean_value"
   ]
  },
  {
   "cell_type": "code",
   "execution_count": 11,
   "metadata": {},
   "outputs": [
    {
     "name": "stdout",
     "output_type": "stream",
     "text": [
      "[[0. 0.]\n",
      " [0. 0.]]\n",
      "[[3. 3.]\n",
      " [3. 3.]]\n"
     ]
    }
   ],
   "source": [
    "z = np.zeros((2, 2))\n",
    "print(z)\n",
    "print(offset_mean(z, 3))"
   ]
  },
  {
   "cell_type": "code",
   "execution_count": 12,
   "metadata": {},
   "outputs": [
    {
     "name": "stdout",
     "output_type": "stream",
     "text": [
      "[[-348.84965278 -348.84965278 -348.84965278 ...  -18.84965278\n",
      "   -28.84965278  -58.84965278]\n",
      " [ -38.84965278  -38.84965278  -28.84965278 ... -458.84965278\n",
      "  -428.84965278 -473.84965278]\n",
      " [-438.84965278 -468.84965278 -473.84965278 ... -461.26344588\n",
      "  -461.60827347 -461.95310105]\n",
      " ...\n",
      " [ 241.15034722  241.15034722  241.15034722 ...  236.15034722\n",
      "   231.15034722  121.15034722]\n",
      " [ 156.15034722  561.15034722  691.15034722 ...  371.15034722\n",
      "   311.15034722  301.15034722]\n",
      " [ 341.15034722  291.15034722  376.15034722 ... 1401.15034722\n",
      "  1461.15034722 1441.15034722]]\n"
     ]
    }
   ],
   "source": [
    "data = np.loadtxt(\"../../data/CO2_np.csv\", delimiter=\",\")\n",
    "print(offset_mean(data, 0)) # ecart à la moyenne de chaque valeur"
   ]
  },
  {
   "cell_type": "markdown",
   "metadata": {},
   "source": [
    "On peut vérifier certaines métriques pour se rassurer sur l'action de la fonction"
   ]
  },
  {
   "cell_type": "code",
   "execution_count": 15,
   "metadata": {},
   "outputs": [
    {
     "name": "stdout",
     "output_type": "stream",
     "text": [
      "original min, mean, and max are: 390, 918.85, 2550\n",
      "min, mean, and max of offset data are: -528.85, -8.01703e-14, 1631.15\n"
     ]
    }
   ],
   "source": [
    "print(f\"original min, mean, and max are: {np.min(data):g}, {np.mean(data):g}, {np.max(data):g}\")\n",
    "offset_data = offset_mean(data, 0)\n",
    "print(f\"min, mean, and max of offset data are: {np.min(offset_data):g}, {np.mean(offset_data):g}, {np.max(offset_data):g}\")\n",
    "# :g = permet d'exprimer les valeurs en format scientifique e-/+ exposant"
   ]
  },
  {
   "cell_type": "markdown",
   "metadata": {},
   "source": [
    "Un autre élément à vérifier est que la std soit conservé dans l'opération"
   ]
  },
  {
   "cell_type": "code",
   "execution_count": 16,
   "metadata": {},
   "outputs": [
    {
     "name": "stdout",
     "output_type": "stream",
     "text": [
      "difference in standard deviations before and after: 0\n"
     ]
    }
   ],
   "source": [
    "print(f\"difference in standard deviations before and after: {np.std(data) - np.std(offset_data):g}\")"
   ]
  },
  {
   "cell_type": "markdown",
   "metadata": {},
   "source": [
    "Une autre tache nous attend : documenter la fonction pour se rappeler son fonctionnement plus tard.\n",
    "\n",
    "Une première façon de faire est d'ajouter des commentaires au dessus de la fonction :"
   ]
  },
  {
   "cell_type": "code",
   "execution_count": 17,
   "metadata": {},
   "outputs": [],
   "source": [
    "# offset_mean(data, target_mean_value):\n",
    "# return a new array containing the original data with its mean offset to match the desired value.\n",
    "def offset_mean(data, target_mean_value):\n",
    "    return (data - numpy.mean(data)) + target_mean_value"
   ]
  },
  {
   "cell_type": "code",
   "execution_count": 18,
   "metadata": {},
   "outputs": [
    {
     "name": "stdout",
     "output_type": "stream",
     "text": [
      "Help on function offset_mean in module __main__:\n",
      "\n",
      "offset_mean(data, target_mean_value)\n",
      "    # offset_mean(data, target_mean_value):\n",
      "    # return a new array containing the original data with its mean offset to match the desired value.\n",
      "\n"
     ]
    }
   ],
   "source": [
    "help(offset_mean)"
   ]
  },
  {
   "cell_type": "markdown",
   "metadata": {},
   "source": [
    "Il existe une meilleur façon de faire : utiliser une *docstring*. Si le premier élément de la fonction est une chaine de caractère qui n'est pas assigné à une variable, elle sera attaché à la fonction comme documentation."
   ]
  },
  {
   "cell_type": "code",
   "execution_count": 19,
   "metadata": {},
   "outputs": [],
   "source": [
    "def offset_mean(data, target_mean_value):\n",
    "    \"\"\"Return a new array containing the original data\n",
    "       with its mean offset to match the desired value.\"\"\"\n",
    "    return (data - np.mean(data)) + target_mean_value"
   ]
  },
  {
   "cell_type": "markdown",
   "metadata": {},
   "source": [
    "Il est maintenant possible d'interroger Python pour afficher la documentation de la fonction."
   ]
  },
  {
   "cell_type": "code",
   "execution_count": 20,
   "metadata": {},
   "outputs": [
    {
     "name": "stdout",
     "output_type": "stream",
     "text": [
      "Help on function offset_mean in module __main__:\n",
      "\n",
      "offset_mean(data, target_mean_value)\n",
      "    Return a new array containing the original data\n",
      "    with its mean offset to match the desired value.\n",
      "\n"
     ]
    }
   ],
   "source": [
    "help(offset_mean)"
   ]
  },
  {
   "cell_type": "code",
   "execution_count": 21,
   "metadata": {},
   "outputs": [
    {
     "name": "stdout",
     "output_type": "stream",
     "text": [
      "Help on function offset_mean in module __main__:\n",
      "\n",
      "offset_mean(data, target_mean_value)\n",
      "    Return a new array containing the original data\n",
      "       with its mean offset to match the desired value.\n",
      "    \n",
      "    Arguments\n",
      "    ---------\n",
      "    data: np.ndarray\n",
      "        the data that will be used to perform the offset\n",
      "    target_mean_value: float\n",
      "        the targeted mean value\n",
      "    \n",
      "    Examples\n",
      "    --------\n",
      "    >>> offset_mean([1, 2, 3], 0)\n",
      "    array([-1.,  0.,  1.])\n",
      "\n"
     ]
    }
   ],
   "source": [
    "def offset_mean(data, target_mean_value):\n",
    "    \"\"\"Return a new array containing the original data\n",
    "       with its mean offset to match the desired value.\n",
    "\n",
    "    Arguments\n",
    "    ---------\n",
    "    data: np.ndarray\n",
    "        the data that will be used to perform the offset\n",
    "    target_mean_value: float\n",
    "        the targeted mean value\n",
    "\n",
    "    Examples\n",
    "    --------\n",
    "    >>> offset_mean([1, 2, 3], 0)\n",
    "    array([-1.,  0.,  1.])\n",
    "    \"\"\"\n",
    "    return (data - np.mean(data)) + target_mean_value\n",
    "\n",
    "help(offset_mean)"
   ]
  },
  {
   "cell_type": "markdown",
   "metadata": {},
   "source": [
    "## Définir des arguments avec défauts"
   ]
  },
  {
   "cell_type": "markdown",
   "metadata": {},
   "source": [
    "Il existe deux types d'arguments, les arguments *positionnels* et les arguments *nommés*. Les premiers sont obligatoirement fournis à l'appel de la fonction alors que les second possèdent une valeur optionnelle et peuvent être omis à l'usage.\n",
    "\n",
    "L'utilisateur peut dans les deux cas fournir les arguments sans spécifier leur nom: `func(5, 3)`. Dans ce cas, les arguments doivent suivre le même ordre que défini dans la *signature* (nom de la fonction + arguments) de la fonction. Il est possible de fournir l'argument avec son nom : `func(arg1=5, arg2=3)`. Dans ce cas, l'ordre n'a pas besoin d'être suivi. Il est possible de mixer les deux formalisme, mais **il faut toujours fournir les arguments positionnels avant les arguments nommés**. Cette règle vaut à la définition ET à l'usage de la fonction.\n",
    "\n",
    "`func(5, arg2=3)` est valable, mais `func(arg1=5, 3)` ne fonctionnera pas.\n",
    "\n",
    "Certaines fonctions imposent que les arguments soient nommés.\n",
    "\n",
    "```python\n",
    "def my_func(arg1, arg2, kwarg1=0, *, kwarg2=0, kwarg3=5):\n",
    "    pass\n",
    "```\n",
    "\n",
    "Tout ce qui est après l'opérateur `*` sera obligatoirement nommés: `my_func(5, 3, 0, 8)` ne marchera pas, `my_func(5, 3, 0, kwarg2=8)` fonctionnera."
   ]
  },
  {
   "cell_type": "code",
   "execution_count": 22,
   "metadata": {},
   "outputs": [
    {
     "name": "stdout",
     "output_type": "stream",
     "text": [
      "Help on function offset_mean in module __main__:\n",
      "\n",
      "offset_mean(data, *, target_mean_value=0)\n",
      "    Return a new array containing the original data\n",
      "       with its mean offset to match the desired value.\n",
      "    \n",
      "    Arguments\n",
      "    ---------\n",
      "    data: np.ndarray\n",
      "        the data that will be used to perform the offset\n",
      "    target_mean_value (default 0): float\n",
      "        the targeted mean value\n",
      "    \n",
      "    Examples\n",
      "    --------\n",
      "    >>> offset_mean([1, 2, 3], 0)\n",
      "    array([-1.,  0.,  1.])\n",
      "\n"
     ]
    }
   ],
   "source": [
    "def offset_mean(data, *, target_mean_value=0):\n",
    "    \"\"\"Return a new array containing the original data\n",
    "       with its mean offset to match the desired value.\n",
    "\n",
    "    Arguments\n",
    "    ---------\n",
    "    data: np.ndarray\n",
    "        the data that will be used to perform the offset\n",
    "    target_mean_value (default 0): float\n",
    "        the targeted mean value\n",
    "\n",
    "    Examples\n",
    "    --------\n",
    "    >>> offset_mean([1, 2, 3], 0)\n",
    "    array([-1.,  0.,  1.])\n",
    "    \"\"\"\n",
    "    return (data - np.mean(data)) + target_mean_value\n",
    "\n",
    "help(offset_mean)"
   ]
  },
  {
   "cell_type": "code",
   "execution_count": 26,
   "metadata": {},
   "outputs": [
    {
     "name": "stdout",
     "output_type": "stream",
     "text": [
      "-8.017027371183589e-14\n",
      "-3.0000000000000844\n"
     ]
    },
    {
     "ename": "TypeError",
     "evalue": "offset_mean() takes 1 positional argument but 2 were given",
     "output_type": "error",
     "traceback": [
      "\u001b[0;31m---------------------------------------------------------------------------\u001b[0m",
      "\u001b[0;31mTypeError\u001b[0m                                 Traceback (most recent call last)",
      "\u001b[0;32m<ipython-input-26-7fd686b29a94>\u001b[0m in \u001b[0;36m<module>\u001b[0;34m\u001b[0m\n\u001b[1;32m      1\u001b[0m \u001b[0mprint\u001b[0m\u001b[0;34m(\u001b[0m\u001b[0moffset_mean\u001b[0m\u001b[0;34m(\u001b[0m\u001b[0mdata\u001b[0m\u001b[0;34m)\u001b[0m\u001b[0;34m.\u001b[0m\u001b[0mmean\u001b[0m\u001b[0;34m(\u001b[0m\u001b[0;34m)\u001b[0m\u001b[0;34m)\u001b[0m\u001b[0;34m\u001b[0m\u001b[0;34m\u001b[0m\u001b[0m\n\u001b[1;32m      2\u001b[0m \u001b[0mprint\u001b[0m\u001b[0;34m(\u001b[0m\u001b[0moffset_mean\u001b[0m\u001b[0;34m(\u001b[0m\u001b[0mdata\u001b[0m\u001b[0;34m,\u001b[0m \u001b[0mtarget_mean_value\u001b[0m\u001b[0;34m=\u001b[0m\u001b[0;34m-\u001b[0m\u001b[0;36m3\u001b[0m\u001b[0;34m)\u001b[0m\u001b[0;34m.\u001b[0m\u001b[0mmean\u001b[0m\u001b[0;34m(\u001b[0m\u001b[0;34m)\u001b[0m\u001b[0;34m)\u001b[0m\u001b[0;34m\u001b[0m\u001b[0;34m\u001b[0m\u001b[0m\n\u001b[0;32m----> 3\u001b[0;31m \u001b[0mprint\u001b[0m\u001b[0;34m(\u001b[0m\u001b[0moffset_mean\u001b[0m\u001b[0;34m(\u001b[0m\u001b[0mdata\u001b[0m\u001b[0;34m,\u001b[0m \u001b[0;36m5\u001b[0m\u001b[0;34m)\u001b[0m\u001b[0;34m.\u001b[0m\u001b[0mmean\u001b[0m\u001b[0;34m(\u001b[0m\u001b[0;34m)\u001b[0m\u001b[0;34m)\u001b[0m\u001b[0;34m\u001b[0m\u001b[0;34m\u001b[0m\u001b[0m\n\u001b[0m",
      "\u001b[0;31mTypeError\u001b[0m: offset_mean() takes 1 positional argument but 2 were given"
     ]
    }
   ],
   "source": [
    "print(offset_mean(data).mean())\n",
    "print(offset_mean(data, target_mean_value=-3).mean())\n",
    "print(offset_mean(data, 5).mean())"
   ]
  },
  {
   "cell_type": "markdown",
   "metadata": {},
   "source": [
    "## Aller plus loin"
   ]
  },
  {
   "cell_type": "markdown",
   "metadata": {},
   "source": [
    "### Scope et fonction *pures*"
   ]
  },
  {
   "cell_type": "markdown",
   "metadata": {},
   "source": [
    "Il est possible d'accéder à des variables qui sont en dehors du scope de la fonction:"
   ]
  },
  {
   "cell_type": "code",
   "execution_count": 27,
   "metadata": {},
   "outputs": [],
   "source": [
    "a = 5\n",
    "\n",
    "def add_a_to_arg(arg):\n",
    "    return arg + a"
   ]
  },
  {
   "cell_type": "code",
   "execution_count": 29,
   "metadata": {},
   "outputs": [
    {
     "data": {
      "text/plain": [
       "20"
      ]
     },
     "execution_count": 29,
     "metadata": {},
     "output_type": "execute_result"
    }
   ],
   "source": [
    "a = 5\n",
    "add_a_to_arg(15)"
   ]
  },
  {
   "cell_type": "markdown",
   "metadata": {},
   "source": [
    "`a` fait partie du scope *global*, `arg` du scope *local*. Cette dernière variable sera inaccessible hors de la fonction"
   ]
  },
  {
   "cell_type": "code",
   "execution_count": 30,
   "metadata": {},
   "outputs": [
    {
     "ename": "NameError",
     "evalue": "name 'arg' is not defined",
     "output_type": "error",
     "traceback": [
      "\u001b[0;31m---------------------------------------------------------------------------\u001b[0m",
      "\u001b[0;31mNameError\u001b[0m                                 Traceback (most recent call last)",
      "\u001b[0;32m<ipython-input-30-c752e686a1bc>\u001b[0m in \u001b[0;36m<module>\u001b[0;34m\u001b[0m\n\u001b[0;32m----> 1\u001b[0;31m \u001b[0marg\u001b[0m\u001b[0;34m\u001b[0m\u001b[0;34m\u001b[0m\u001b[0m\n\u001b[0m",
      "\u001b[0;31mNameError\u001b[0m: name 'arg' is not defined"
     ]
    }
   ],
   "source": [
    "arg"
   ]
  },
  {
   "cell_type": "markdown",
   "metadata": {},
   "source": [
    "Réassigner une variable *non-local* n'est pas possible : elles ne sont accessible qu'en lecture, a moins d'utiliser le statement `global`"
   ]
  },
  {
   "cell_type": "code",
   "execution_count": 31,
   "metadata": {},
   "outputs": [
    {
     "ename": "UnboundLocalError",
     "evalue": "local variable 'a' referenced before assignment",
     "output_type": "error",
     "traceback": [
      "\u001b[0;31m---------------------------------------------------------------------------\u001b[0m",
      "\u001b[0;31mUnboundLocalError\u001b[0m                         Traceback (most recent call last)",
      "\u001b[0;32m<ipython-input-31-8492bdc4e5b3>\u001b[0m in \u001b[0;36m<module>\u001b[0;34m\u001b[0m\n\u001b[1;32m      5\u001b[0m     \u001b[0;32mreturn\u001b[0m \u001b[0ma\u001b[0m\u001b[0;34m\u001b[0m\u001b[0;34m\u001b[0m\u001b[0m\n\u001b[1;32m      6\u001b[0m \u001b[0;34m\u001b[0m\u001b[0m\n\u001b[0;32m----> 7\u001b[0;31m \u001b[0madd_a_to_arg\u001b[0m\u001b[0;34m(\u001b[0m\u001b[0;36m7\u001b[0m\u001b[0;34m)\u001b[0m\u001b[0;34m\u001b[0m\u001b[0;34m\u001b[0m\u001b[0m\n\u001b[0m",
      "\u001b[0;32m<ipython-input-31-8492bdc4e5b3>\u001b[0m in \u001b[0;36madd_a_to_arg\u001b[0;34m(arg)\u001b[0m\n\u001b[1;32m      2\u001b[0m \u001b[0;34m\u001b[0m\u001b[0m\n\u001b[1;32m      3\u001b[0m \u001b[0;32mdef\u001b[0m \u001b[0madd_a_to_arg\u001b[0m\u001b[0;34m(\u001b[0m\u001b[0marg\u001b[0m\u001b[0;34m)\u001b[0m\u001b[0;34m:\u001b[0m\u001b[0;34m\u001b[0m\u001b[0;34m\u001b[0m\u001b[0m\n\u001b[0;32m----> 4\u001b[0;31m     \u001b[0ma\u001b[0m \u001b[0;34m=\u001b[0m \u001b[0ma\u001b[0m \u001b[0;34m+\u001b[0m \u001b[0marg\u001b[0m\u001b[0;34m\u001b[0m\u001b[0;34m\u001b[0m\u001b[0m\n\u001b[0m\u001b[1;32m      5\u001b[0m     \u001b[0;32mreturn\u001b[0m \u001b[0ma\u001b[0m\u001b[0;34m\u001b[0m\u001b[0;34m\u001b[0m\u001b[0m\n\u001b[1;32m      6\u001b[0m \u001b[0;34m\u001b[0m\u001b[0m\n",
      "\u001b[0;31mUnboundLocalError\u001b[0m: local variable 'a' referenced before assignment"
     ]
    }
   ],
   "source": [
    "a = 5\n",
    "\n",
    "def add_a_to_arg(arg):\n",
    "    a = a + arg\n",
    "    return a\n",
    "\n",
    "add_a_to_arg(7)"
   ]
  },
  {
   "cell_type": "code",
   "execution_count": 32,
   "metadata": {},
   "outputs": [
    {
     "name": "stdout",
     "output_type": "stream",
     "text": [
      "5\n",
      "12\n",
      "12\n"
     ]
    }
   ],
   "source": [
    "a = 5\n",
    "\n",
    "def add_a_to_arg(arg):\n",
    "    global a\n",
    "    a = a + arg\n",
    "    return a\n",
    "\n",
    "print(a)\n",
    "print(add_a_to_arg(7))\n",
    "print(a)"
   ]
  },
  {
   "cell_type": "markdown",
   "metadata": {},
   "source": [
    "Si c'est possible, **ce n'est pas une bonne pratique** et peut mener à des bugs importants. Accéder à une variable non-local dans une fonction, c'est s'exposer à un bug si cette variable est modifié plus tard"
   ]
  },
  {
   "cell_type": "code",
   "execution_count": 33,
   "metadata": {},
   "outputs": [
    {
     "name": "stdout",
     "output_type": "stream",
     "text": [
      "12\n"
     ]
    },
    {
     "ename": "TypeError",
     "evalue": "unsupported operand type(s) for +: 'NoneType' and 'int'",
     "output_type": "error",
     "traceback": [
      "\u001b[0;31m---------------------------------------------------------------------------\u001b[0m",
      "\u001b[0;31mTypeError\u001b[0m                                 Traceback (most recent call last)",
      "\u001b[0;32m<ipython-input-33-c9d4ff493822>\u001b[0m in \u001b[0;36m<module>\u001b[0;34m\u001b[0m\n\u001b[1;32m      6\u001b[0m \u001b[0mprint\u001b[0m\u001b[0;34m(\u001b[0m\u001b[0madd_a_to_arg\u001b[0m\u001b[0;34m(\u001b[0m\u001b[0;36m7\u001b[0m\u001b[0;34m)\u001b[0m\u001b[0;34m)\u001b[0m\u001b[0;34m\u001b[0m\u001b[0;34m\u001b[0m\u001b[0m\n\u001b[1;32m      7\u001b[0m \u001b[0ma\u001b[0m \u001b[0;34m=\u001b[0m \u001b[0;32mNone\u001b[0m\u001b[0;34m\u001b[0m\u001b[0;34m\u001b[0m\u001b[0m\n\u001b[0;32m----> 8\u001b[0;31m \u001b[0mprint\u001b[0m\u001b[0;34m(\u001b[0m\u001b[0madd_a_to_arg\u001b[0m\u001b[0;34m(\u001b[0m\u001b[0;36m7\u001b[0m\u001b[0;34m)\u001b[0m\u001b[0;34m)\u001b[0m\u001b[0;34m\u001b[0m\u001b[0;34m\u001b[0m\u001b[0m\n\u001b[0m",
      "\u001b[0;32m<ipython-input-33-c9d4ff493822>\u001b[0m in \u001b[0;36madd_a_to_arg\u001b[0;34m(arg)\u001b[0m\n\u001b[1;32m      2\u001b[0m \u001b[0;34m\u001b[0m\u001b[0m\n\u001b[1;32m      3\u001b[0m \u001b[0;32mdef\u001b[0m \u001b[0madd_a_to_arg\u001b[0m\u001b[0;34m(\u001b[0m\u001b[0marg\u001b[0m\u001b[0;34m)\u001b[0m\u001b[0;34m:\u001b[0m\u001b[0;34m\u001b[0m\u001b[0;34m\u001b[0m\u001b[0m\n\u001b[0;32m----> 4\u001b[0;31m     \u001b[0;32mreturn\u001b[0m \u001b[0ma\u001b[0m \u001b[0;34m+\u001b[0m \u001b[0marg\u001b[0m\u001b[0;34m\u001b[0m\u001b[0;34m\u001b[0m\u001b[0m\n\u001b[0m\u001b[1;32m      5\u001b[0m \u001b[0;34m\u001b[0m\u001b[0m\n\u001b[1;32m      6\u001b[0m \u001b[0mprint\u001b[0m\u001b[0;34m(\u001b[0m\u001b[0madd_a_to_arg\u001b[0m\u001b[0;34m(\u001b[0m\u001b[0;36m7\u001b[0m\u001b[0;34m)\u001b[0m\u001b[0;34m)\u001b[0m\u001b[0;34m\u001b[0m\u001b[0;34m\u001b[0m\u001b[0m\n",
      "\u001b[0;31mTypeError\u001b[0m: unsupported operand type(s) for +: 'NoneType' and 'int'"
     ]
    }
   ],
   "source": [
    "a = 5\n",
    "\n",
    "def add_a_to_arg(arg):\n",
    "    return a + arg\n",
    "\n",
    "print(add_a_to_arg(7))\n",
    "a = None\n",
    "print(add_a_to_arg(7))"
   ]
  },
  {
   "cell_type": "markdown",
   "metadata": {},
   "source": [
    "C'est encore pire en modifiant une variable non-locale. Il est conseillé d'utiliser, autant que possible, des fonctions dites **pures**. Ce sont des fonctions qui ne modifient aucune variable hors de leur scope et qui ne dépendent que de leurs arguments."
   ]
  },
  {
   "cell_type": "markdown",
   "metadata": {},
   "source": [
    "### opérateur splat (et double splat)"
   ]
  },
  {
   "cell_type": "markdown",
   "metadata": {},
   "source": [
    "Il est possible d'écrire des fonctions avec des arguments variables avec l'opérateur splat, avec la signature"
   ]
  },
  {
   "cell_type": "code",
   "execution_count": 34,
   "metadata": {},
   "outputs": [],
   "source": [
    "def my_func(*args, **kwargs):\n",
    "    print(args)\n",
    "    print(kwargs)"
   ]
  },
  {
   "cell_type": "code",
   "execution_count": 46,
   "metadata": {},
   "outputs": [
    {
     "name": "stdout",
     "output_type": "stream",
     "text": [
      "(5, 6, (10, 1))\n",
      "{'test': 'test', 'an_arg': [7], 'another_arg': 'test'}\n"
     ]
    }
   ],
   "source": [
    "my_func(5, 6, (10,1), test=\"test\", an_arg=[7], another_arg=\"test\")"
   ]
  },
  {
   "cell_type": "markdown",
   "metadata": {},
   "source": [
    "L'opération inverse est possible, et appeler `my_func(*my_list)` va faire passer une collction d'arguments en tant qu'arguments positionnels tandis que `my_func(**my_dict)` va passer un mapping d'arguments en tant qu'arguments nommés à une fonction."
   ]
  },
  {
   "cell_type": "markdown",
   "metadata": {},
   "source": [
    "[***Prochaine section***](fonda_09-robustesse_erreur_debug.ipynb)"
   ]
  }
 ],
 "metadata": {
  "kernelspec": {
   "display_name": "Python 3",
   "language": "python",
   "name": "python3"
  },
  "language_info": {
   "codemirror_mode": {
    "name": "ipython",
    "version": 3
   },
   "file_extension": ".py",
   "mimetype": "text/x-python",
   "name": "python",
   "nbconvert_exporter": "python",
   "pygments_lexer": "ipython3",
   "version": "3.7.4"
  }
 },
 "nbformat": 4,
 "nbformat_minor": 4
}
