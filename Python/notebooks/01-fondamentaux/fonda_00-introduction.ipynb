{
 "cells": [
  {
   "cell_type": "markdown",
   "metadata": {},
   "source": [
    "# Programmation python, introduction\n",
    "\n",
    "## Le langage Python, petite perspective\n",
    "\n",
    "- Un langage \"vieux\" : 1ère version datant de 1991\n",
    "- Un langage moderne : développement actif (nouvelles versions et fonctionnalités régulières)\n",
    "- Une librairie standard fournie et un écosystème riche.\n",
    "- Un écosystème mettant l'emphase sur la qualité de la documentation et la qualité du code (présence de tests quasi-systématisé).\n",
    "- Reconnu comme langage de référence pour l'analyse de donnée, pour faire intéragir d'autres langages et outils ensemble.\n",
    "- S'interface très bien avec le C, présence de nombreux outils pour interfacer d'autres langages (C++, Fortran, R...).\n",
    "- Un langage \"lent\" à l'execution par essence (contrebalancé par la présence d'outils permettant d'accélerer le code), mais permettant un développement rapide.\n",
    "\n",
    "### Caractéristiques du langage\n",
    "\n",
    "- Langage *haut-niveau*: plus proche de l'utilisateur que du code machine\n",
    "- Langage *interprété*: l'interpréteur **python** est compilé et va interpréter le code source de l'utilisateur, au contraire du **C** qui nécessitera de compiler le code source de l'utilisateur.\n",
    "- Utilisation d'un *garbage collector*: il n'est pas nécessaire de désalouer les variables, le garbage collector va libérer l'emplacement mémoire des variables qui ne sont plus utilisés / accessibles.\n",
    "- Typage fort (pas de conversion implicite de type de variable) et dynamique (pas besoin de déclarer explicitement le type de variable à l'avance).\n",
    "\n",
    "## Installation\n",
    "\n",
    "Nous utiliserons Anaconda qui est une *distribution* python. C'est à dire qu'elle contient *l'interpréteur python* ainsi qu'un ensemble de *librairie* préinstallés.\n",
    "\n",
    "C'est une distribution orienté calcul scientifique, et qui embarque avec elle la majorité des librairies nécessaire pour de l'analyse numérique.\n",
    "\n",
    "L'installeur Anaconda est disponible à l'adresse https://www.anaconda.com/download/.\n",
    "\n",
    "L'installeur vient avec avec un environnement intégré de développement (IDE) appelé spyder. Il a été créé de façon à \"imiter\" l'éditeur Matlab. Il vient également avec *jupyter*, un outil permettant de travailler sous forme de *notebooks*, et c'est ce dernier outil que nous utiliserons dans cette formation.\n",
    "\n",
    "<video controls width=600 src=\"../../screencasts/install_anaconda.mp4\" type=\"video/mp4\" />\n",
    "\n"
   ]
  },
  {
   "cell_type": "markdown",
   "metadata": {},
   "source": [
    "## Lancement de jupyter et prise en main\n",
    "\n",
    "Jupyter peut se lancer directement via le raccourci `Anaconda/Jupyter notebook` qui est créé dans le menu démarré à l'installation de la distribution Anaconda.\n",
    "\n",
    "<video controls width=600 src=\"../../screencasts/usage_jupyter.mp4\" type=\"video/mp4\" />"
   ]
  },
  {
   "cell_type": "markdown",
   "metadata": {},
   "source": [
    "## Les convention de style et la PEP8"
   ]
  },
  {
   "cell_type": "markdown",
   "metadata": {},
   "source": [
    "Il faut séparer les erreurs de syntaxe (interdites par l'interpréteur) et les \"mauvaises pratiques\", qui ne feront pas planter le programme mais rendront sa relecture plus difficile.\n",
    "\n",
    "```python\n",
    "0var = 5 # erreur de syntaxe, chiffre en début de nom de variable\n",
    "aDictionnary= {\"a\"    : 3} # valide, mais mauvaises pratiques (nommage de variable, inconsistance des espaces...\n",
    "```\n",
    "\n",
    "[La pep8](https://www.python.org/dev/peps/pep-0008/) constitue **une convention de style partagé** entre les développeurs python afin d'homogénéiser le style entre les développeurs et utilisateurs python.\n",
    "\n",
    "[La pep20](https://www.python.org/dev/peps/pep-0020/) donne un guide de principe de la programmation en python.\n",
    "\n",
    "Ces deux documents ont en commun que de ne pas les respecter n'empechera pas de tourner, mais que de les respecter pousse à améliorer la qualité de notre programmation.\n",
    "\n",
    "Il existe des `linter` capable d'indiquer les fautes de style (comme [flake8](https://flake8.pycqa.org/en/latest/) et des outils permettant d'automatiser le formatage comme [black](https://github.com/psf/black)."
   ]
  },
  {
   "cell_type": "markdown",
   "metadata": {},
   "source": [
    "[***Prochaine section***](fonda_01-variables.ipynb)"
   ]
  }
 ],
 "metadata": {
  "kernelspec": {
   "display_name": "Python 3",
   "language": "python",
   "name": "python3"
  },
  "language_info": {
   "codemirror_mode": {
    "name": "ipython",
    "version": 3
   },
   "file_extension": ".py",
   "mimetype": "text/x-python",
   "name": "python",
   "nbconvert_exporter": "python",
   "pygments_lexer": "ipython3",
   "version": "3.7.6"
  }
 },
 "nbformat": 4,
 "nbformat_minor": 4
}
