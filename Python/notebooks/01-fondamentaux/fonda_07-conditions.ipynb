{
 "cells": [
  {
   "cell_type": "markdown",
   "metadata": {},
   "source": [
    "# Les conditions : des actions différentes en fonction des entrées"
   ]
  },
  {
   "cell_type": "markdown",
   "metadata": {},
   "source": [
    "Nous avons vu rapidement qu'il était possible de tester les valeurs des puissances de la PAC pour en extraire le taux de fonctionnement. Nous allons apprendre plus en détail comment fonctionnent *les structures conditionnelles* pour écrire un code qui execute différentes instructions en fonction de nos entrées."
   ]
  },
  {
   "cell_type": "markdown",
   "metadata": {},
   "source": [
    "## Les conditions"
   ]
  },
  {
   "cell_type": "markdown",
   "metadata": {},
   "source": [
    "Il est possible d'executer différentes actions, selon une condition, avec le statement `if`."
   ]
  },
  {
   "cell_type": "code",
   "execution_count": 1,
   "metadata": {},
   "outputs": [
    {
     "name": "stdout",
     "output_type": "stream",
     "text": [
      "greater\n",
      "done\n"
     ]
    }
   ],
   "source": [
    "num = 102\n",
    "if num > 100:\n",
    "    print('greater')\n",
    "else:\n",
    "    print('not greater')\n",
    "print('done')\n"
   ]
  },
  {
   "cell_type": "markdown",
   "metadata": {},
   "source": [
    "On test une condition avec `if` : si elle est respecté, le code du bloc suivant est executé. Dans le cas contraire, le bloc suivant le statement `else` sera executé. Une fois revenu au niveau d'indentation précédent, le code continue normalement. **Seul l'un des deux blocs est executé**."
   ]
  },
  {
   "attachments": {
    "image.png": {
     "image/png": "[encoded data removed]"
    }
   },
   "cell_type": "markdown",
   "metadata": {},
   "source": [
    "![image.png](attachment:image.png)"
   ]
  },
  {
   "cell_type": "markdown",
   "metadata": {},
   "source": [
    "Le statement `else` n'est pas obligatoire. Dans le cas ou il est omit et que la condition n'est pas respecté, Python passera juste à la suite."
   ]
  },
  {
   "cell_type": "code",
   "execution_count": null,
   "metadata": {},
   "outputs": [],
   "source": [
    "num = 102\n",
    "print('before conditional...')\n",
    "if num > 100:\n",
    "    print(num,' is greater than 100')\n",
    "print('...after conditional')"
   ]
  },
  {
   "cell_type": "markdown",
   "metadata": {},
   "source": [
    "Il est aussi possible d'enchainer les tests avec `elif` (pour \"else if\")."
   ]
  },
  {
   "cell_type": "code",
   "execution_count": 3,
   "metadata": {},
   "outputs": [
    {
     "name": "stdout",
     "output_type": "stream",
     "text": [
      "-3 is negative\n"
     ]
    }
   ],
   "source": [
    "num = -3\n",
    "\n",
    "if num > 0:\n",
    "    print(num, 'is positive')\n",
    "else:\n",
    "    if num == 0:\n",
    "        print(num, 'is zero')\n",
    "    else:\n",
    "        if num < 0:\n",
    "            print(num, 'is negative')\n"
   ]
  },
  {
   "cell_type": "code",
   "execution_count": 6,
   "metadata": {},
   "outputs": [
    {
     "name": "stdout",
     "output_type": "stream",
     "text": [
      "0 is zero\n"
     ]
    }
   ],
   "source": [
    "num = 0\n",
    "\n",
    "if num > 0:\n",
    "    print(num, 'is positive')\n",
    "elif num == 0:\n",
    "    print(num, 'is zero')\n",
    "else:\n",
    "    print(num, 'is negative')\n"
   ]
  },
  {
   "cell_type": "markdown",
   "metadata": {},
   "source": [
    "**Attention à `==`, à ne pas confondre avec `=`.** Le premier teste une égalité entre deux valeurs, le second sert à assigner une valeur à une variable.\n",
    "\n",
    "Il est possible de combiner les conditions avec `and` et `or`."
   ]
  },
  {
   "cell_type": "code",
   "execution_count": 7,
   "metadata": {},
   "outputs": [
    {
     "name": "stdout",
     "output_type": "stream",
     "text": [
      "at least one part is false\n"
     ]
    }
   ],
   "source": [
    "if (1 > 0) and (-1 > 0):\n",
    "    print('both parts are true')\n",
    "else:\n",
    "    print('at least one part is false')\n"
   ]
  },
  {
   "cell_type": "code",
   "execution_count": 8,
   "metadata": {},
   "outputs": [
    {
     "name": "stdout",
     "output_type": "stream",
     "text": [
      "at least one test is true\n"
     ]
    }
   ],
   "source": [
    "if (1 < 0) or (-1 < 0):\n",
    "    print('at least one test is true')\n"
   ]
  },
  {
   "cell_type": "code",
   "execution_count": 9,
   "metadata": {},
   "outputs": [],
   "source": [
    "first_cond = (1 < 0) # False\n",
    "second_cond = (-1 < 0) # True"
   ]
  },
  {
   "cell_type": "code",
   "execution_count": 10,
   "metadata": {},
   "outputs": [
    {
     "name": "stdout",
     "output_type": "stream",
     "text": [
      "False\n",
      "True\n"
     ]
    }
   ],
   "source": [
    "print(first_cond and second_cond)\n",
    "print(first_cond or second_cond)"
   ]
  },
  {
   "cell_type": "markdown",
   "metadata": {},
   "source": [
    "### `True` et `False`\n",
    "\n",
    "Ce sont des mots reservé en Python appelés *booléens* et qui représentent une valeur de vérité. Ce sont ces valeurs qui sont retournés par une condition (comme `0 < 1`).\n",
    "\n",
    "Chaques types peuvent être convertis en booléens avec la fonction `bool`."
   ]
  },
  {
   "cell_type": "code",
   "execution_count": 11,
   "metadata": {},
   "outputs": [
    {
     "name": "stdout",
     "output_type": "stream",
     "text": [
      "False True\n",
      "False True\n",
      "False True\n",
      "False True\n",
      "False True\n"
     ]
    }
   ],
   "source": [
    "print(bool(\"\"), bool(\"fez\"))\n",
    "print(bool(0), bool(5))\n",
    "print(bool(0.), bool(-0.9))\n",
    "print(bool([]), bool([0]))\n",
    "print(bool({}), bool({\"key\": []}))"
   ]
  },
  {
   "cell_type": "markdown",
   "metadata": {},
   "source": [
    "A noter qu'il n'est pas utile de tester un booléen :"
   ]
  },
  {
   "cell_type": "code",
   "execution_count": 12,
   "metadata": {},
   "outputs": [],
   "source": [
    "first_cond = (1 < 0)"
   ]
  },
  {
   "cell_type": "code",
   "execution_count": 13,
   "metadata": {},
   "outputs": [],
   "source": [
    "if first_cond == True:\n",
    "    print(\"condition True\")"
   ]
  },
  {
   "cell_type": "markdown",
   "metadata": {},
   "source": [
    "et"
   ]
  },
  {
   "cell_type": "code",
   "execution_count": 15,
   "metadata": {},
   "outputs": [],
   "source": [
    "if first_cond:\n",
    "    print(\"condition True\")"
   ]
  },
  {
   "cell_type": "markdown",
   "metadata": {},
   "source": [
    "sont strictement identiques."
   ]
  },
  {
   "cell_type": "code",
   "execution_count": 16,
   "metadata": {},
   "outputs": [
    {
     "name": "stdout",
     "output_type": "stream",
     "text": [
      "False\n",
      "True\n"
     ]
    }
   ],
   "source": [
    "# not => inversion\n",
    "print(not True)\n",
    "print(not False)"
   ]
  },
  {
   "cell_type": "code",
   "execution_count": 17,
   "metadata": {},
   "outputs": [
    {
     "name": "stdout",
     "output_type": "stream",
     "text": [
      "True\n",
      "False\n"
     ]
    }
   ],
   "source": [
    "# vérifier identité\n",
    "a = b = [3, 2, 5]\n",
    "print(a is b) # id(a) == id(b)\n",
    "\n",
    "a = [3, 2, 5]\n",
    "b = list(a)\n",
    "print(a is b)"
   ]
  },
  {
   "cell_type": "code",
   "execution_count": 18,
   "metadata": {},
   "outputs": [
    {
     "name": "stdout",
     "output_type": "stream",
     "text": [
      "True\n",
      "True\n"
     ]
    }
   ],
   "source": [
    "# vérifier tous éléments identiques\n",
    "a = b = [3, 2, 5]\n",
    "print(a == b)\n",
    "\n",
    "a = [3, 2, 5]\n",
    "b = list(a)\n",
    "print(a == b)\n",
    "\n",
    "# On peut faire une comparaison terme à terme ?? >> Oui, voir plus bas, il faut utiliser & et | à la place de and et or"
   ]
  },
  {
   "cell_type": "code",
   "execution_count": 19,
   "metadata": {},
   "outputs": [
    {
     "name": "stdout",
     "output_type": "stream",
     "text": [
      "True\n",
      "False\n"
     ]
    }
   ],
   "source": [
    "print(8 in [8, 7, 'a'])\n",
    "\n",
    "print(8 in [6, 7, 'a'])"
   ]
  },
  {
   "cell_type": "markdown",
   "metadata": {},
   "source": [
    "## Exercice : application à nos données."
   ]
  },
  {
   "cell_type": "code",
   "execution_count": 20,
   "metadata": {},
   "outputs": [],
   "source": [
    "import numpy as np\n",
    "import matplotlib.pyplot as plt"
   ]
  },
  {
   "cell_type": "markdown",
   "metadata": {},
   "source": [
    "Nous allons importer des données provenant d'un capteur de CO2 échantillonées toutes les 10 minute."
   ]
  },
  {
   "cell_type": "code",
   "execution_count": 21,
   "metadata": {},
   "outputs": [],
   "source": [
    "data = np.loadtxt(\"../../data/CO2_np.csv\", delimiter=\",\")"
   ]
  },
  {
   "cell_type": "code",
   "execution_count": 22,
   "metadata": {},
   "outputs": [
    {
     "data": {
      "text/plain": [
       "(30, 1440)"
      ]
     },
     "execution_count": 22,
     "metadata": {},
     "output_type": "execute_result"
    }
   ],
   "source": [
    "data.shape"
   ]
  },
  {
   "cell_type": "code",
   "execution_count": 29,
   "metadata": {},
   "outputs": [
    {
     "name": "stdout",
     "output_type": "stream",
     "text": [
      "(30,)\n",
      "(1440,)\n"
     ]
    },
    {
     "data": {
      "text/plain": [
       "array([ 0,  1,  2,  3,  4,  5,  6,  7,  8,  9, 10, 11, 12, 13, 14, 15, 16,\n",
       "       17, 18, 19, 20, 21, 22, 23, 24, 25, 26, 27, 28, 29])"
      ]
     },
     "execution_count": 29,
     "metadata": {},
     "output_type": "execute_result"
    }
   ],
   "source": [
    "days, minutes = map(np.arange, data.shape) # map prend une fonction et un itérable et va appliquer la fonction à chaque éléments de l'itérable\n",
    "hours = minutes / 60\n",
    "print(days.shape)\n",
    "print(minutes.shape)"
   ]
  },
  {
   "cell_type": "markdown",
   "metadata": {},
   "source": [
    "Ces données ont plusieurs problèmes :\n",
    "\n",
    "- Le capteur sature à une certaine valeur de CO2.\n",
    "- Il possède une valeur minimale et n'est pas capable de traiter les valeurs qui sont inférieurs."
   ]
  },
  {
   "cell_type": "code",
   "execution_count": 30,
   "metadata": {},
   "outputs": [
    {
     "data": {
      "text/plain": [
       "<matplotlib.collections.QuadMesh at 0x7f69298abd90>"
      ]
     },
     "execution_count": 30,
     "metadata": {},
     "output_type": "execute_result"
    },
    {
     "data": {
      "image/png": "[encoded data removed]",
      "text/plain": [
       "<Figure size 432x288 with 1 Axes>"
      ]
     },
     "metadata": {
      "needs_background": "light"
     },
     "output_type": "display_data"
    }
   ],
   "source": [
    "plt.pcolormesh(hours, days, data)"
   ]
  },
  {
   "cell_type": "markdown",
   "metadata": {},
   "source": [
    "Quels est, pour chaque jour, la proportion de données en saturation haute (valeur de saturation) et en saturation basse?"
   ]
  },
  {
   "cell_type": "code",
   "execution_count": 31,
   "metadata": {},
   "outputs": [],
   "source": [
    "# On récupère les valeurs min et max qui correspondent à la saturation du capteur.\n",
    "low_sat = data.min() \n",
    "high_sat = data.max()"
   ]
  },
  {
   "cell_type": "code",
   "execution_count": 32,
   "metadata": {},
   "outputs": [
    {
     "name": "stdout",
     "output_type": "stream",
     "text": [
      "Perc. of sat., day 01: 9.3 %\n",
      "Perc. of sat., day 02: 6.7 %\n",
      "Perc. of sat., day 03: 0.3 %\n",
      "Perc. of sat., day 04: 4.4 %\n",
      "Perc. of sat., day 05: 0.6 %\n",
      "Perc. of sat., day 06: 0.0 %\n",
      "Perc. of sat., day 07: 2.8 %\n",
      "Perc. of sat., day 08: 6.3 %\n",
      "Perc. of sat., day 09: 11.2 %\n",
      "Perc. of sat., day 10: 0.0 %\n",
      "Perc. of sat., day 11: 12.1 %\n",
      "Perc. of sat., day 12: 0.0 %\n",
      "Perc. of sat., day 13: 7.4 %\n",
      "Perc. of sat., day 14: 1.0 %\n",
      "Perc. of sat., day 15: 12.2 %\n",
      "Perc. of sat., day 16: 0.3 %\n",
      "Perc. of sat., day 17: 0.6 %\n",
      "Perc. of sat., day 18: 6.0 %\n",
      "Perc. of sat., day 19: 10.1 %\n",
      "Perc. of sat., day 20: 0.0 %\n",
      "Perc. of sat., day 21: 4.9 %\n",
      "Perc. of sat., day 22: 21.9 %\n",
      "Perc. of sat., day 23: 2.3 %\n",
      "Perc. of sat., day 24: 14.9 %\n",
      "Perc. of sat., day 25: 0.0 %\n",
      "Perc. of sat., day 26: 11.0 %\n",
      "Perc. of sat., day 27: 3.3 %\n",
      "Perc. of sat., day 28: 0.0 %\n",
      "Perc. of sat., day 29: 2.6 %\n",
      "Perc. of sat., day 30: 16.9 %\n",
      "CPU times: user 28.8 ms, sys: 23 µs, total: 28.8 ms\n",
      "Wall time: 26.9 ms\n"
     ]
    }
   ],
   "source": [
    "%%time \n",
    "# Pour le moment, on va se contenter de faire deux boucles imbriqué.\n",
    "# c'est une \"mauvaise pratique\" mais qui permettra de manipuler les booléens.\n",
    "for i, daily_data in enumerate(data, 1): # enumerate permet de récupérer l'index en plus de l'éléments d'un itérable.\n",
    "    # pour chaques jours, on initialise un compteur\n",
    "    count = 0\n",
    "    for value in daily_data:\n",
    "        # pour chaque minutes de la journée, on teste si la valeur sature,\n",
    "        # en étant égale ou sup. (resp. inf.) à la valeur de saturation haute (resp. basse).\n",
    "        if (value >= high_sat) or (value <= low_sat):\n",
    "            # Si c'est vrai, on incrémente le compteur\n",
    "            count = count + 1\n",
    "    print(f\"Perc. of sat., day {i:02d}: {count / len(daily_data) * 100:.1f} %\")"
   ]
  },
  {
   "cell_type": "markdown",
   "metadata": {},
   "source": [
    "Comme indiqué dans [la documentation numpy](https://docs.scipy.org/doc/numpy-1.13.0/reference/ufuncs.html#comparison-functions), il ne faut pas utiliser `and` ou `or` pour combiner des booléens de deux array éléments par éléments. On utilisera les opérateurs `&` à la place du `and` et `|` à la place du `or`. On peut aussi utiliser `~` comme équivalent éléments-par éléments de `not`, ce qui inversera un tableau de booléens (True -> False et False -> True).\n",
    "\n",
    "> Do not use the Python keywords and and or to combine logical array expressions. These keywords will test the truth value of the entire array (not element-by-element as you might expect). Use the bitwise operators & and | instead.\n",
    "\n",
    "De plus, attention à la précédence !\n",
    "\n",
    "> `(a > 2) & (a < 5)` is the proper syntax because `a > 2 & a < 5` will result in an error due to the fact that `2 & a` is evaluated first.\n",
    "\n",
    "Une fois que cette information est connu, il est possible de vectoriser notre code."
   ]
  },
  {
   "cell_type": "code",
   "execution_count": 36,
   "metadata": {},
   "outputs": [
    {
     "name": "stdout",
     "output_type": "stream",
     "text": [
      "Perc. of sat., day 01: 9.3 %\n",
      "Perc. of sat., day 02: 6.7 %\n",
      "Perc. of sat., day 03: 0.3 %\n",
      "Perc. of sat., day 04: 4.4 %\n",
      "Perc. of sat., day 05: 0.6 %\n",
      "Perc. of sat., day 06: 0.0 %\n",
      "Perc. of sat., day 07: 2.8 %\n",
      "Perc. of sat., day 08: 6.3 %\n",
      "Perc. of sat., day 09: 11.2 %\n",
      "Perc. of sat., day 10: 0.0 %\n",
      "Perc. of sat., day 11: 12.1 %\n",
      "Perc. of sat., day 12: 0.0 %\n",
      "Perc. of sat., day 13: 7.4 %\n",
      "Perc. of sat., day 14: 1.0 %\n",
      "Perc. of sat., day 15: 12.2 %\n",
      "Perc. of sat., day 16: 0.3 %\n",
      "Perc. of sat., day 17: 0.6 %\n",
      "Perc. of sat., day 18: 6.0 %\n",
      "Perc. of sat., day 19: 10.1 %\n",
      "Perc. of sat., day 20: 0.0 %\n",
      "Perc. of sat., day 21: 4.9 %\n",
      "Perc. of sat., day 22: 21.9 %\n",
      "Perc. of sat., day 23: 2.3 %\n",
      "Perc. of sat., day 24: 14.9 %\n",
      "Perc. of sat., day 25: 0.0 %\n",
      "Perc. of sat., day 26: 11.0 %\n",
      "Perc. of sat., day 27: 3.3 %\n",
      "Perc. of sat., day 28: 0.0 %\n",
      "Perc. of sat., day 29: 2.6 %\n",
      "Perc. of sat., day 30: 16.9 %\n",
      "CPU times: user 3.87 ms, sys: 0 ns, total: 3.87 ms\n",
      "Wall time: 2.04 ms\n"
     ]
    }
   ],
   "source": [
    "%%time # eq à tic-toc sous matlab\n",
    "is_saturated = (data <= low_sat) | (data >= high_sat) # On crée un array de \"flag\" qui indique les données saturés\n",
    "# Comme int(False) == 0, on peut compter les éléments non-nuls avec `np.count_nonzero` pour connaitre les éléments nonsaturés.\n",
    "saturated_count = np.count_nonzero(is_saturated, axis=1)\n",
    "frac_saturated_daily = saturated_count / data.shape[1]\n",
    "\n",
    "for i, fract_sat in enumerate(frac_saturated_daily, 1):\n",
    "    print(f\"Perc. of sat., day {i:02d}: {fract_sat * 100:.1f} %\") # :02d = indique d'afficher des entiers à 2 chiffres\n",
    "                                                                  # :.1f = indique d'afficher un float avec 1 seule décimale\n"
   ]
  },
  {
   "cell_type": "markdown",
   "metadata": {},
   "source": [
    "[***Prochaine section***](fonda_08-fonctions.ipynb)"
   ]
  }
 ],
 "metadata": {
  "kernelspec": {
   "display_name": "Python 3",
   "language": "python",
   "name": "python3"
  },
  "language_info": {
   "codemirror_mode": {
    "name": "ipython",
    "version": 3
   },
   "file_extension": ".py",
   "mimetype": "text/x-python",
   "name": "python",
   "nbconvert_exporter": "python",
   "pygments_lexer": "ipython3",
   "version": "3.7.4"
  }
 },
 "nbformat": 4,
 "nbformat_minor": 4
}
