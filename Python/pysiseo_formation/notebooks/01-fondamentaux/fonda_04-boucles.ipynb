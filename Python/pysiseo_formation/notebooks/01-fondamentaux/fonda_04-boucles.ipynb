{
 "cells": [
  {
   "cell_type": "markdown",
   "metadata": {},
   "source": [
    "# Boucle et itération, automatiser les actions répétitives\n",
    "\n",
    "Nous avons vu précédément comment faire des affichages de données. Mais comment faire pour traiter chaques jours du mois d'un coup? Nous devons demander au langage de répéter les actions.\n",
    "\n",
    "Nous pouvons par exemple demander d'afficher chaques caractère d'un texte, les uns après les autres."
   ]
  },
  {
   "cell_type": "code",
   "execution_count": 1,
   "metadata": {},
   "outputs": [],
   "source": [
    "word = 'plomb'"
   ]
  },
  {
   "cell_type": "markdown",
   "metadata": {},
   "source": [
    "En Python, les chaines de caractères sont un ensemble ordonné de caractères, et un index est assigné à chaques caractère. Le premier caractère est accessible avec `word[0]`. Une façon d'afficher les 5 caractères les un après les autres serait d'utiliser 5 fois la fonction `print`."
   ]
  },
  {
   "cell_type": "code",
   "execution_count": 2,
   "metadata": {},
   "outputs": [
    {
     "name": "stdout",
     "output_type": "stream",
     "text": [
      "p\n",
      "l\n",
      "o\n",
      "m\n",
      "b\n"
     ]
    }
   ],
   "source": [
    "print(word[0])\n",
    "print(word[1])\n",
    "print(word[2])\n",
    "print(word[3])\n",
    "print(word[4])"
   ]
  },
  {
   "cell_type": "markdown",
   "metadata": {},
   "source": [
    "Quels sont les problèmes qui viennent avec cette façon de faire?"
   ]
  },
  {
   "cell_type": "code",
   "execution_count": 3,
   "metadata": {},
   "outputs": [
    {
     "name": "stdout",
     "output_type": "stream",
     "text": [
      "f\n",
      "e\n",
      "r\n"
     ]
    },
    {
     "ename": "IndexError",
     "evalue": "string index out of range",
     "output_type": "error",
     "traceback": [
      "\u001b[0;31m---------------------------------------------------------------------------\u001b[0m",
      "\u001b[0;31mIndexError\u001b[0m                                Traceback (most recent call last)",
      "\u001b[0;32m<ipython-input-3-5edd846f9ffd>\u001b[0m in \u001b[0;36m<module>\u001b[0;34m\u001b[0m\n\u001b[1;32m      3\u001b[0m \u001b[0mprint\u001b[0m\u001b[0;34m(\u001b[0m\u001b[0mword\u001b[0m\u001b[0;34m[\u001b[0m\u001b[0;36m1\u001b[0m\u001b[0;34m]\u001b[0m\u001b[0;34m)\u001b[0m\u001b[0;34m\u001b[0m\u001b[0;34m\u001b[0m\u001b[0m\n\u001b[1;32m      4\u001b[0m \u001b[0mprint\u001b[0m\u001b[0;34m(\u001b[0m\u001b[0mword\u001b[0m\u001b[0;34m[\u001b[0m\u001b[0;36m2\u001b[0m\u001b[0;34m]\u001b[0m\u001b[0;34m)\u001b[0m\u001b[0;34m\u001b[0m\u001b[0;34m\u001b[0m\u001b[0m\n\u001b[0;32m----> 5\u001b[0;31m \u001b[0mprint\u001b[0m\u001b[0;34m(\u001b[0m\u001b[0mword\u001b[0m\u001b[0;34m[\u001b[0m\u001b[0;36m3\u001b[0m\u001b[0;34m]\u001b[0m\u001b[0;34m)\u001b[0m\u001b[0;34m\u001b[0m\u001b[0;34m\u001b[0m\u001b[0m\n\u001b[0m\u001b[1;32m      6\u001b[0m \u001b[0mprint\u001b[0m\u001b[0;34m(\u001b[0m\u001b[0mword\u001b[0m\u001b[0;34m[\u001b[0m\u001b[0;36m4\u001b[0m\u001b[0;34m]\u001b[0m\u001b[0;34m)\u001b[0m\u001b[0;34m\u001b[0m\u001b[0;34m\u001b[0m\u001b[0m\n",
      "\u001b[0;31mIndexError\u001b[0m: string index out of range"
     ]
    }
   ],
   "source": [
    "word = \"fer\"\n",
    "print(word[0])\n",
    "print(word[1])\n",
    "print(word[2])\n",
    "print(word[3])\n",
    "print(word[4])"
   ]
  },
  {
   "cell_type": "markdown",
   "metadata": {},
   "source": [
    "Nous allons donc demander à Python de \"boucler\", d'*iterer* sur la chaine de caractère. L'itération se fait de la façon suivante:"
   ]
  },
  {
   "cell_type": "code",
   "execution_count": 9,
   "metadata": {},
   "outputs": [
    {
     "name": "stdout",
     "output_type": "stream",
     "text": [
      "p\n",
      "l\n",
      "o\n",
      "m\n",
      "b\n"
     ]
    }
   ],
   "source": [
    "word = 'plomb'\n",
    "for char in word:\n",
    "    print(char)"
   ]
  },
  {
   "cell_type": "markdown",
   "metadata": {},
   "source": [
    "La syntaxe est plus courte et surtout plus robuste :"
   ]
  },
  {
   "cell_type": "code",
   "execution_count": 10,
   "metadata": {},
   "outputs": [
    {
     "name": "stdout",
     "output_type": "stream",
     "text": [
      "o\n",
      "x\n",
      "y\n",
      "g\n",
      "e\n",
      "n\n"
     ]
    }
   ],
   "source": [
    "word = 'oxygen'\n",
    "for char in word:\n",
    "    print(char)"
   ]
  },
  {
   "cell_type": "markdown",
   "metadata": {},
   "source": [
    "La forme générale d'une itération est:\n",
    "\n",
    "```python\n",
    "for variable in collection:\n",
    "    # do things using variable, such as print\n",
    "```\n",
    "\n",
    "*l'objet collection doit formelement être un iterable, c'est à dire un objet qui peut renvoyer des valeurs les unes après les autres. Cet objet peut potentiellement renvoyer des valeurs à l'infini, et dans ce cas la boucle ne s'arretera jamais. C'est lié à la notion de générateurs, qui est une notion plus avancé.*\n",
    "\n",
    "Si on regarde l'exemple précédent:\n",
    "\n",
    "![](../../images/loops_image.png)\n",
    "\n",
    "Chaques caractères de la variable `word` est placé dans la variable `char`, puis affiché via la fonction `print`. La variable où est stocké chaque valeur de l'itération (ici `char`) peut être appelé comme on le veut, mais il est important qu'elle ai assez de sens pour guider celui qui lira le code et aider à comprendre la boucle.\n",
    "\n",
    "A noter que contrairement à beaucoup d'autres langages, il n'y a pas de mots clés signifiant la fin de la boucle. En Python, **les espaces sont signifiants**.\n",
    "\n",
    "**Un bloc commence par un deux-points (:) et une identation, et se termine quand s'arrête l'indentation.**\n",
    "\n",
    "Un autre exemple de boucle où une variable est mise à jour à chaque itération :"
   ]
  },
  {
   "cell_type": "code",
   "execution_count": 15,
   "metadata": {},
   "outputs": [
    {
     "name": "stdout",
     "output_type": "stream",
     "text": [
      "There are 5 vowels\n"
     ]
    }
   ],
   "source": [
    "length = 0\n",
    "vowels = 'aeiou'\n",
    "for vowel in vowels:\n",
    "    length = length + 1\n",
    "print('There are', length, 'vowels')"
   ]
  },
  {
   "cell_type": "markdown",
   "metadata": {},
   "source": [
    "A noter qu'il existe une façon bien plus efficace d'avoir cette information:"
   ]
  },
  {
   "cell_type": "code",
   "execution_count": 16,
   "metadata": {},
   "outputs": [
    {
     "name": "stdout",
     "output_type": "stream",
     "text": [
      "There are 5 vowels\n"
     ]
    }
   ],
   "source": [
    "vowels = 'aeiou'\n",
    "print(f'There are {len(vowels)} vowels')"
   ]
  },
  {
   "cell_type": "markdown",
   "metadata": {},
   "source": [
    "## Exercices"
   ]
  },
  {
   "cell_type": "markdown",
   "metadata": {},
   "source": [
    "### Range, 1 à N\n",
    "\n",
    "La builtin `range` renvoie un itérateur qui génère une séquence d'entier. `range` accepte 1, 2 ou 3 paramètres. En regardant la documentation, utilisez `range` pour générer les 3 premier entier paires et les afficher les uns après les autres."
   ]
  },
  {
   "cell_type": "code",
   "execution_count": 2,
   "metadata": {},
   "outputs": [
    {
     "name": "stdout",
     "output_type": "stream",
     "text": [
      "0\n",
      "2\n",
      "4\n"
     ]
    }
   ],
   "source": [
    "pair_number = range(0,6,2)\n",
    "for number in pair_number:\n",
    "    print(number)\n",
    "    "
   ]
  },
  {
   "cell_type": "markdown",
   "metadata": {},
   "source": [
    "### Exponentiation\n",
    "\n",
    "L'exponentiation (la puissance) est intégré en python via l'opérateur `**`"
   ]
  },
  {
   "cell_type": "code",
   "execution_count": 16,
   "metadata": {},
   "outputs": [
    {
     "name": "stdout",
     "output_type": "stream",
     "text": [
      "125\n",
      "125\n"
     ]
    }
   ],
   "source": [
    "print(5 ** 3)\n",
    "\n",
    "nb_of_power = range(1,3,1)\n",
    "result = 5\n",
    "result_out = result\n",
    "for power in nb_of_power:\n",
    "    result_out = result_out*result\n",
    "print(result_out)"
   ]
  },
  {
   "cell_type": "markdown",
   "metadata": {},
   "source": [
    "Écrivez une boucle pour faire la même opération, uniquement avec des multiplications."
   ]
  },
  {
   "cell_type": "markdown",
   "metadata": {},
   "source": [
    "### Inversion de chaine de caractère."
   ]
  },
  {
   "cell_type": "markdown",
   "metadata": {},
   "source": [
    "Écrivez une boucle capable d'écrire l'inverse de la chaine de caractère `'Newton'` (`'notweN'`).\n",
    "\n",
    "Indices:\n",
    "- il est possible de concatener deux chaine de caractère en les additionnant\n",
    "- il est également possible de demander à `print` de ne pas passer à la ligne\n",
    "\n",
    "Bonus : faites la même opération en utilisant ce qui a été appris précédement avec le slicing."
   ]
  },
  {
   "cell_type": "code",
   "execution_count": 47,
   "metadata": {},
   "outputs": [
    {
     "name": "stdout",
     "output_type": "stream",
     "text": [
      "notweN\n",
      "notweN\n"
     ]
    }
   ],
   "source": [
    "init_string = \"Newton\"\n",
    "string_length = len(init_string)\n",
    "out_string = \"\"\n",
    "for nb in range(string_length):\n",
    "    out_string = out_string + init_string[string_length-nb-1] \n",
    "print(out_string)\n",
    "\n",
    "print(init_string[::-1])"
   ]
  },
  {
   "cell_type": "markdown",
   "metadata": {},
   "source": [
    "### Calcul d'un polynome"
   ]
  },
  {
   "cell_type": "markdown",
   "metadata": {},
   "source": [
    "La buit-in `enumerate` prend un itérable (comme une liste) et génère un itérable de même taille contenant une paire (un tuple) `index, valeur`.\n",
    "\n",
    "Ainsi"
   ]
  },
  {
   "cell_type": "code",
   "execution_count": 18,
   "metadata": {},
   "outputs": [
    {
     "name": "stdout",
     "output_type": "stream",
     "text": [
      "Caractère n°0: p\n",
      "Caractère n°1: l\n",
      "Caractère n°2: o\n",
      "Caractère n°3: m\n",
      "Caractère n°4: b\n"
     ]
    }
   ],
   "source": [
    "for idx, char in enumerate(\"plomb\"):\n",
    "    print(f\"Caractère n°{idx}: {char}\")"
   ]
  },
  {
   "cell_type": "markdown",
   "metadata": {},
   "source": [
    "Imaginons que vous ayez décrit un polynome $y = a_0 + a_1 x + a_2 x^2$ avec une liste contenant les coefficients $a_i$ de la façon suivante :"
   ]
  },
  {
   "cell_type": "code",
   "execution_count": 20,
   "metadata": {},
   "outputs": [
    {
     "name": "stdout",
     "output_type": "stream",
     "text": [
      "97\n"
     ]
    }
   ],
   "source": [
    "x = 5\n",
    "coefs = [2, 4, 3]\n",
    "y = coefs[0] * x**0 + coefs[1] * x**1 + coefs[2] * x**2\n",
    "print(y)"
   ]
  },
  {
   "cell_type": "markdown",
   "metadata": {},
   "source": [
    "Utilisez enumerate pour écrire uen boucle capable de calculer `y` pour n'importe quel polynome, étant donné un `x` et une liste de `coefs`."
   ]
  },
  {
   "cell_type": "markdown",
   "metadata": {},
   "source": [
    "[***Prochaine section***](fonda_05-listes_tuples.ipynb)"
   ]
  },
  {
   "cell_type": "code",
   "execution_count": null,
   "metadata": {},
   "outputs": [],
   "source": []
  }
 ],
 "metadata": {
  "kernelspec": {
   "display_name": "Python 3",
   "language": "python",
   "name": "python3"
  },
  "language_info": {
   "codemirror_mode": {
    "name": "ipython",
    "version": 3
   },
   "file_extension": ".py",
   "mimetype": "text/x-python",
   "name": "python",
   "nbconvert_exporter": "python",
   "pygments_lexer": "ipython3",
   "version": "3.7.4"
  }
 },
 "nbformat": 4,
 "nbformat_minor": 4
}
