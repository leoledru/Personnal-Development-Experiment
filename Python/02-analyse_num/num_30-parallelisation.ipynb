{
 "cells": [
  {
   "cell_type": "markdown",
   "metadata": {},
   "source": [
    "# La parallélisation, une tache plus ou moins complexe\n",
    "\n",
    "La parallélisation n'est pas chose aisé. Le meilleur des cas est lorsque l'on en a pas besoin. Malgré tout, il est parfois nécessaire d'accélerer un peu les calculs.\n",
    "\n",
    "Si s'en passer n'est pas possible, le meilleur cas de figure est lorsque la tache à effectuer consiste en N appels complètement indépendant d'une même fonction. Ce cas de figure est dit *embarrassingly parallel*. On verra très rapidement l'utilisation de `joblib` dans ce cas de figure.\n",
    "\n",
    "Imaginons que l'on ai besoin d'utiliser une fonction lente `slow_square`, qui, donnée un nombre, renverra son carré :"
   ]
  },
  {
   "cell_type": "code",
   "execution_count": 1,
   "metadata": {},
   "outputs": [],
   "source": [
    "import time\n",
    "import numpy as np"
   ]
  },
  {
   "cell_type": "code",
   "execution_count": 8,
   "metadata": {},
   "outputs": [],
   "source": [
    "def slow_square(a):\n",
    "    print(f\"squaring {a:g}...\")\n",
    "    time.sleep(1)\n",
    "    squared_a = a ** 2\n",
    "    print(f\"{a:g} squared! result: {squared_a:g}\")\n",
    "    return squared_a"
   ]
  },
  {
   "cell_type": "markdown",
   "metadata": {},
   "source": [
    "S'il est nécessaire d'appliquer cette fonction à un grand nombre d'entrée, le temps deviendra vite prohibitif."
   ]
  },
  {
   "cell_type": "code",
   "execution_count": 7,
   "metadata": {},
   "outputs": [
    {
     "name": "stdout",
     "output_type": "stream",
     "text": [
      "squaring 0...\n",
      "0 squared! result: 0\n",
      "squaring 3.33333...\n",
      "3.33333 squared! result: 11.1111\n",
      "squaring 6.66667...\n"
     ]
    },
    {
     "ename": "KeyboardInterrupt",
     "evalue": "",
     "output_type": "error",
     "traceback": [
      "\u001b[0;31m---------------------------------------------------------------------------\u001b[0m",
      "\u001b[0;31mKeyboardInterrupt\u001b[0m                         Traceback (most recent call last)",
      "\u001b[0;32m<timed exec>\u001b[0m in \u001b[0;36m<module>\u001b[0;34m\u001b[0m\n",
      "\u001b[0;32m<timed exec>\u001b[0m in \u001b[0;36m<listcomp>\u001b[0;34m(.0)\u001b[0m\n",
      "\u001b[0;32m<ipython-input-6-65cc47c736eb>\u001b[0m in \u001b[0;36mslow_square\u001b[0;34m(a)\u001b[0m\n\u001b[1;32m      1\u001b[0m \u001b[0;32mdef\u001b[0m \u001b[0mslow_square\u001b[0m\u001b[0;34m(\u001b[0m\u001b[0ma\u001b[0m\u001b[0;34m)\u001b[0m\u001b[0;34m:\u001b[0m\u001b[0;34m\u001b[0m\u001b[0;34m\u001b[0m\u001b[0m\n\u001b[1;32m      2\u001b[0m     \u001b[0mprint\u001b[0m\u001b[0;34m(\u001b[0m\u001b[0;34mf\"squaring {a:g}...\"\u001b[0m\u001b[0;34m)\u001b[0m\u001b[0;34m\u001b[0m\u001b[0;34m\u001b[0m\u001b[0m\n\u001b[0;32m----> 3\u001b[0;31m     \u001b[0mtime\u001b[0m\u001b[0;34m.\u001b[0m\u001b[0msleep\u001b[0m\u001b[0;34m(\u001b[0m\u001b[0;36m4\u001b[0m\u001b[0;34m)\u001b[0m\u001b[0;34m\u001b[0m\u001b[0;34m\u001b[0m\u001b[0m\n\u001b[0m\u001b[1;32m      4\u001b[0m     \u001b[0msquared_a\u001b[0m \u001b[0;34m=\u001b[0m \u001b[0ma\u001b[0m \u001b[0;34m**\u001b[0m \u001b[0;36m2\u001b[0m\u001b[0;34m\u001b[0m\u001b[0;34m\u001b[0m\u001b[0m\n\u001b[1;32m      5\u001b[0m     \u001b[0mprint\u001b[0m\u001b[0;34m(\u001b[0m\u001b[0;34mf\"{a:g} squared! result: {squared_a:g}\"\u001b[0m\u001b[0;34m)\u001b[0m\u001b[0;34m\u001b[0m\u001b[0;34m\u001b[0m\u001b[0m\n",
      "\u001b[0;31mKeyboardInterrupt\u001b[0m: "
     ]
    }
   ],
   "source": [
    "%%time\n",
    "squared = [slow_square(a) for a in np.linspace(0, 10, 4)]"
   ]
  },
  {
   "cell_type": "markdown",
   "metadata": {},
   "source": [
    "L'appliquation d'une même fonction à une collection d'argument s'appel un `map`. Il est possible de faire la même chose que pour la cellule précédente avec :"
   ]
  },
  {
   "cell_type": "code",
   "execution_count": 9,
   "metadata": {},
   "outputs": [
    {
     "name": "stdout",
     "output_type": "stream",
     "text": [
      "squaring 0...\n",
      "0 squared! result: 0\n",
      "squaring 3.33333...\n",
      "3.33333 squared! result: 11.1111\n",
      "squaring 6.66667...\n",
      "6.66667 squared! result: 44.4444\n",
      "squaring 10...\n",
      "10 squared! result: 100\n"
     ]
    }
   ],
   "source": [
    "squared = list(map(slow_square, np.linspace(0, 10, 4)))"
   ]
  },
  {
   "cell_type": "markdown",
   "metadata": {},
   "source": [
    "En utilisant multiprocessing, on va pouvoir facilement paralléliser ce genre d'opération"
   ]
  },
  {
   "cell_type": "code",
   "execution_count": 13,
   "metadata": {},
   "outputs": [],
   "source": [
    "from joblib import delayed, Parallel, parallel_backend"
   ]
  },
  {
   "cell_type": "code",
   "execution_count": 20,
   "metadata": {},
   "outputs": [
    {
     "name": "stdout",
     "output_type": "stream",
     "text": [
      "[(<function slow_square at 0x7fa54fe5d830>, (0.0,), {}), (<function slow_square at 0x7fa54fe5d830>, (3.3333333333333335,), {}), (<function slow_square at 0x7fa54fe5d830>, (6.666666666666667,), {}), (<function slow_square at 0x7fa54fe5d830>, (10.0,), {})]\n",
      "squaring 0...\n",
      "0 squared! result: 0\n",
      "squaring 3.33333...\n",
      "3.33333 squared! result: 11.1111\n",
      "squaring 6.66667...\n",
      "6.66667 squared! result: 44.4444\n",
      "squaring 10...\n",
      "10 squared! result: 100\n"
     ]
    }
   ],
   "source": [
    "with parallel_backend(\"loky\", n_jobs=-1):\n",
    "    futures = [delayed(slow_square)(a) for a in np.linspace(0, 10, 4)]\n",
    "    print(futures)\n",
    "    result = Parallel()(futures)"
   ]
  },
  {
   "cell_type": "code",
   "execution_count": 16,
   "metadata": {},
   "outputs": [
    {
     "data": {
      "text/plain": [
       "[0.0, 11.111111111111112, 44.44444444444445, 100.0]"
      ]
     },
     "execution_count": 16,
     "metadata": {},
     "output_type": "execute_result"
    }
   ],
   "source": [
    "result"
   ]
  }
 ],
 "metadata": {
  "kernelspec": {
   "display_name": "Python [conda env:stats]",
   "language": "python",
   "name": "conda-env-stats-py"
  },
  "language_info": {
   "codemirror_mode": {
    "name": "ipython",
    "version": 3
   },
   "file_extension": ".py",
   "mimetype": "text/x-python",
   "name": "python",
   "nbconvert_exporter": "python",
   "pygments_lexer": "ipython3",
   "version": "3.7.6"
  }
 },
 "nbformat": 4,
 "nbformat_minor": 4
}
