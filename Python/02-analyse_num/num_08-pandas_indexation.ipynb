{
 "cells": [
  {
   "cell_type": "code",
   "execution_count": 10,
   "metadata": {},
   "outputs": [],
   "source": [
    "import pandas as pd"
   ]
  },
  {
   "cell_type": "markdown",
   "metadata": {},
   "source": [
    "# Selection de donnée : l'indexation avec Pandas\n",
    "\n",
    "L'opération la plus simple qu'il est possible de faire avec un DataFrame est de selectionner des données. Nous avons vu qu'il était possible de selectionner une colonne en utilisant le DataFrame comme un dictionnaire, avec `df[\"col_name\"]`. Il est possible de faire des requètes plus complexes également."
   ]
  },
  {
   "cell_type": "markdown",
   "metadata": {},
   "source": [
    "## Indexation simple, `loc`, `iloc`\n",
    "\n",
    "`df.loc[\"idx_name\", \"col_name\"]` permet de selectionner des données avec *les noms* des indices et colonnes, là où `df.iloc[i_idx, j_col]` permet de selectionner des données avec *la position* des indices et colonnes."
   ]
  },
  {
   "cell_type": "code",
   "execution_count": 13,
   "metadata": {},
   "outputs": [
    {
     "data": {
      "text/html": [
       "<div>\n",
       "<style scoped>\n",
       "    .dataframe tbody tr th:only-of-type {\n",
       "        vertical-align: middle;\n",
       "    }\n",
       "\n",
       "    .dataframe tbody tr th {\n",
       "        vertical-align: top;\n",
       "    }\n",
       "\n",
       "    .dataframe thead th {\n",
       "        text-align: right;\n",
       "    }\n",
       "</style>\n",
       "<table border=\"1\" class=\"dataframe\">\n",
       "  <thead>\n",
       "    <tr style=\"text-align: right;\">\n",
       "      <th></th>\n",
       "      <th>temp_inside</th>\n",
       "      <th>temp_outside</th>\n",
       "    </tr>\n",
       "    <tr>\n",
       "      <th>date and time</th>\n",
       "      <th></th>\n",
       "      <th></th>\n",
       "    </tr>\n",
       "  </thead>\n",
       "  <tbody>\n",
       "    <tr>\n",
       "      <th>2018-01-01 00:00:00</th>\n",
       "      <td>23.0</td>\n",
       "      <td>7.5</td>\n",
       "    </tr>\n",
       "    <tr>\n",
       "      <th>2018-01-01 00:01:00</th>\n",
       "      <td>23.0</td>\n",
       "      <td>7.5</td>\n",
       "    </tr>\n",
       "    <tr>\n",
       "      <th>2018-01-01 00:02:00</th>\n",
       "      <td>23.0</td>\n",
       "      <td>7.3</td>\n",
       "    </tr>\n",
       "    <tr>\n",
       "      <th>2018-01-01 00:03:00</th>\n",
       "      <td>23.0</td>\n",
       "      <td>7.4</td>\n",
       "    </tr>\n",
       "    <tr>\n",
       "      <th>2018-01-01 00:04:00</th>\n",
       "      <td>23.0</td>\n",
       "      <td>7.4</td>\n",
       "    </tr>\n",
       "    <tr>\n",
       "      <th>...</th>\n",
       "      <td>...</td>\n",
       "      <td>...</td>\n",
       "    </tr>\n",
       "    <tr>\n",
       "      <th>2018-01-31 23:55:00</th>\n",
       "      <td>23.0</td>\n",
       "      <td>8.6</td>\n",
       "    </tr>\n",
       "    <tr>\n",
       "      <th>2018-01-31 23:56:00</th>\n",
       "      <td>23.0</td>\n",
       "      <td>8.6</td>\n",
       "    </tr>\n",
       "    <tr>\n",
       "      <th>2018-01-31 23:57:00</th>\n",
       "      <td>23.0</td>\n",
       "      <td>8.8</td>\n",
       "    </tr>\n",
       "    <tr>\n",
       "      <th>2018-01-31 23:58:00</th>\n",
       "      <td>23.0</td>\n",
       "      <td>8.7</td>\n",
       "    </tr>\n",
       "    <tr>\n",
       "      <th>2018-01-31 23:59:00</th>\n",
       "      <td>23.0</td>\n",
       "      <td>8.6</td>\n",
       "    </tr>\n",
       "  </tbody>\n",
       "</table>\n",
       "<p>44640 rows × 2 columns</p>\n",
       "</div>"
      ],
      "text/plain": [
       "                     temp_inside  temp_outside\n",
       "date and time                                 \n",
       "2018-01-01 00:00:00         23.0           7.5\n",
       "2018-01-01 00:01:00         23.0           7.5\n",
       "2018-01-01 00:02:00         23.0           7.3\n",
       "2018-01-01 00:03:00         23.0           7.4\n",
       "2018-01-01 00:04:00         23.0           7.4\n",
       "...                          ...           ...\n",
       "2018-01-31 23:55:00         23.0           8.6\n",
       "2018-01-31 23:56:00         23.0           8.6\n",
       "2018-01-31 23:57:00         23.0           8.8\n",
       "2018-01-31 23:58:00         23.0           8.7\n",
       "2018-01-31 23:59:00         23.0           8.6\n",
       "\n",
       "[44640 rows x 2 columns]"
      ]
     },
     "execution_count": 13,
     "metadata": {},
     "output_type": "execute_result"
    }
   ],
   "source": [
    "df = pd.read_csv(\"../../data/temperatures.csv\", index_col=0)\n",
    "df"
   ]
  },
  {
   "cell_type": "code",
   "execution_count": 14,
   "metadata": {},
   "outputs": [
    {
     "data": {
      "text/plain": [
       "date and time\n",
       "2018-01-01 00:00:00    23.0\n",
       "2018-01-01 00:01:00    23.0\n",
       "2018-01-01 00:02:00    23.0\n",
       "2018-01-01 00:03:00    23.0\n",
       "2018-01-01 00:04:00    23.0\n",
       "                       ... \n",
       "2018-01-31 23:55:00    23.0\n",
       "2018-01-31 23:56:00    23.0\n",
       "2018-01-31 23:57:00    23.0\n",
       "2018-01-31 23:58:00    23.0\n",
       "2018-01-31 23:59:00    23.0\n",
       "Name: temp_inside, Length: 44640, dtype: float64"
      ]
     },
     "execution_count": 14,
     "metadata": {},
     "output_type": "execute_result"
    }
   ],
   "source": [
    "df[\"temp_inside\"] # on récupère la colonne \"embark_town\""
   ]
  },
  {
   "cell_type": "code",
   "execution_count": 15,
   "metadata": {},
   "outputs": [
    {
     "data": {
      "text/plain": [
       "7.5"
      ]
     },
     "execution_count": 15,
     "metadata": {},
     "output_type": "execute_result"
    }
   ],
   "source": [
    "df.loc[\"2018-01-01 00:00:00\", \"temp_outside\"] # on récupère l'indice \"3\" et la colonne \"pclass\""
   ]
  },
  {
   "cell_type": "code",
   "execution_count": 16,
   "metadata": {},
   "outputs": [
    {
     "data": {
      "text/plain": [
       "23.0"
      ]
     },
     "execution_count": 16,
     "metadata": {},
     "output_type": "execute_result"
    }
   ],
   "source": [
    "df.iloc[-1, 0] # on récupère la dernière ligne et la 1ère colonne"
   ]
  },
  {
   "cell_type": "markdown",
   "metadata": {},
   "source": [
    "Il est également possible d'utiliser le *slicing*"
   ]
  },
  {
   "cell_type": "code",
   "execution_count": 22,
   "metadata": {},
   "outputs": [
    {
     "data": {
      "text/html": [
       "<div>\n",
       "<style scoped>\n",
       "    .dataframe tbody tr th:only-of-type {\n",
       "        vertical-align: middle;\n",
       "    }\n",
       "\n",
       "    .dataframe tbody tr th {\n",
       "        vertical-align: top;\n",
       "    }\n",
       "\n",
       "    .dataframe thead th {\n",
       "        text-align: right;\n",
       "    }\n",
       "</style>\n",
       "<table border=\"1\" class=\"dataframe\">\n",
       "  <thead>\n",
       "    <tr style=\"text-align: right;\">\n",
       "      <th></th>\n",
       "      <th>temp_inside</th>\n",
       "      <th>temp_outside</th>\n",
       "    </tr>\n",
       "    <tr>\n",
       "      <th>date and time</th>\n",
       "      <th></th>\n",
       "      <th></th>\n",
       "    </tr>\n",
       "  </thead>\n",
       "  <tbody>\n",
       "    <tr>\n",
       "      <th>2018-01-01 00:00:00</th>\n",
       "      <td>23.0</td>\n",
       "      <td>7.5</td>\n",
       "    </tr>\n",
       "    <tr>\n",
       "      <th>2018-01-01 00:01:00</th>\n",
       "      <td>23.0</td>\n",
       "      <td>7.5</td>\n",
       "    </tr>\n",
       "    <tr>\n",
       "      <th>2018-01-01 00:02:00</th>\n",
       "      <td>23.0</td>\n",
       "      <td>7.3</td>\n",
       "    </tr>\n",
       "    <tr>\n",
       "      <th>2018-01-01 00:03:00</th>\n",
       "      <td>23.0</td>\n",
       "      <td>7.4</td>\n",
       "    </tr>\n",
       "    <tr>\n",
       "      <th>2018-01-01 00:04:00</th>\n",
       "      <td>23.0</td>\n",
       "      <td>7.4</td>\n",
       "    </tr>\n",
       "  </tbody>\n",
       "</table>\n",
       "</div>"
      ],
      "text/plain": [
       "                     temp_inside  temp_outside\n",
       "date and time                                 \n",
       "2018-01-01 00:00:00         23.0           7.5\n",
       "2018-01-01 00:01:00         23.0           7.5\n",
       "2018-01-01 00:02:00         23.0           7.3\n",
       "2018-01-01 00:03:00         23.0           7.4\n",
       "2018-01-01 00:04:00         23.0           7.4"
      ]
     },
     "execution_count": 22,
     "metadata": {},
     "output_type": "execute_result"
    }
   ],
   "source": [
    "df.loc[\"2018-01-01 00:00:00\":\"2018-01-01 00:04:00\",\n",
    "       \"temp_inside\":\"temp_outside\"]"
   ]
  },
  {
   "cell_type": "code",
   "execution_count": 23,
   "metadata": {},
   "outputs": [
    {
     "data": {
      "text/plain": [
       "date and time\n",
       "2018-01-01 00:00:00    23.0\n",
       "2018-01-01 00:01:00    23.0\n",
       "2018-01-01 00:02:00    23.0\n",
       "2018-01-01 00:03:00    23.0\n",
       "2018-01-01 00:04:00    23.0\n",
       "2018-01-01 00:05:00    23.0\n",
       "2018-01-01 00:06:00    23.0\n",
       "2018-01-01 00:07:00    23.0\n",
       "2018-01-01 00:08:00    23.0\n",
       "2018-01-01 00:09:00    23.0\n",
       "Name: temp_inside, dtype: float64"
      ]
     },
     "execution_count": 23,
     "metadata": {},
     "output_type": "execute_result"
    }
   ],
   "source": [
    "df.iloc[:10, 0]"
   ]
  },
  {
   "cell_type": "markdown",
   "metadata": {},
   "source": [
    "## Indexation *fancy*, conditions booléenne\n",
    "\n",
    "Il est également d'utiliser le *fancy indexing* de la même façon que pour un array numpy : en fournissant\n",
    "\n",
    "- une liste d'indices (nom ou position)\n",
    "\n",
    "ou\n",
    "\n",
    "- une série de booléens"
   ]
  },
  {
   "cell_type": "code",
   "execution_count": 28,
   "metadata": {},
   "outputs": [
    {
     "data": {
      "text/plain": [
       "date and time\n",
       "2018-01-01 00:00:00    False\n",
       "2018-01-01 00:01:00    False\n",
       "2018-01-01 00:02:00    False\n",
       "2018-01-01 00:03:00    False\n",
       "2018-01-01 00:04:00    False\n",
       "                       ...  \n",
       "2018-01-31 23:55:00    False\n",
       "2018-01-31 23:56:00    False\n",
       "2018-01-31 23:57:00    False\n",
       "2018-01-31 23:58:00    False\n",
       "2018-01-31 23:59:00    False\n",
       "Name: temp_outside, Length: 44640, dtype: bool"
      ]
     },
     "execution_count": 28,
     "metadata": {},
     "output_type": "execute_result"
    }
   ],
   "source": [
    "is_Tout_min = df.temp_outside == df.temp_outside.min()\n",
    "is_Tout_min"
   ]
  },
  {
   "cell_type": "code",
   "execution_count": 29,
   "metadata": {},
   "outputs": [
    {
     "data": {
      "text/html": [
       "<div>\n",
       "<style scoped>\n",
       "    .dataframe tbody tr th:only-of-type {\n",
       "        vertical-align: middle;\n",
       "    }\n",
       "\n",
       "    .dataframe tbody tr th {\n",
       "        vertical-align: top;\n",
       "    }\n",
       "\n",
       "    .dataframe thead th {\n",
       "        text-align: right;\n",
       "    }\n",
       "</style>\n",
       "<table border=\"1\" class=\"dataframe\">\n",
       "  <thead>\n",
       "    <tr style=\"text-align: right;\">\n",
       "      <th></th>\n",
       "      <th>temp_inside</th>\n",
       "      <th>temp_outside</th>\n",
       "    </tr>\n",
       "    <tr>\n",
       "      <th>date and time</th>\n",
       "      <th></th>\n",
       "      <th></th>\n",
       "    </tr>\n",
       "  </thead>\n",
       "  <tbody>\n",
       "    <tr>\n",
       "      <th>2018-01-13 06:37:00</th>\n",
       "      <td>22.8</td>\n",
       "      <td>-0.7</td>\n",
       "    </tr>\n",
       "    <tr>\n",
       "      <th>2018-01-13 06:52:00</th>\n",
       "      <td>22.8</td>\n",
       "      <td>-0.7</td>\n",
       "    </tr>\n",
       "  </tbody>\n",
       "</table>\n",
       "</div>"
      ],
      "text/plain": [
       "                     temp_inside  temp_outside\n",
       "date and time                                 \n",
       "2018-01-13 06:37:00         22.8          -0.7\n",
       "2018-01-13 06:52:00         22.8          -0.7"
      ]
     },
     "execution_count": 29,
     "metadata": {},
     "output_type": "execute_result"
    }
   ],
   "source": [
    "df[is_Tout_min]"
   ]
  },
  {
   "cell_type": "markdown",
   "metadata": {},
   "source": [
    "On observe donc que deux dates correspondent à un même minimum de température extérieur. On peut accéder directement au *premier* indice avec la méthode `idxmin`."
   ]
  },
  {
   "cell_type": "code",
   "execution_count": 32,
   "metadata": {},
   "outputs": [
    {
     "data": {
      "text/plain": [
       "'2018-01-13 06:37:00'"
      ]
     },
     "execution_count": 32,
     "metadata": {},
     "output_type": "execute_result"
    }
   ],
   "source": [
    "df.temp_outside.idxmin()"
   ]
  },
  {
   "cell_type": "code",
   "execution_count": 33,
   "metadata": {},
   "outputs": [
    {
     "data": {
      "text/plain": [
       "temp_inside     22.8\n",
       "temp_outside    -0.7\n",
       "Name: 2018-01-13 06:37:00, dtype: float64"
      ]
     },
     "execution_count": 33,
     "metadata": {},
     "output_type": "execute_result"
    }
   ],
   "source": [
    "df.loc[df.temp_outside.idxmin()]"
   ]
  }
 ],
 "metadata": {
  "kernelspec": {
   "display_name": "Python 3",
   "language": "python",
   "name": "python3"
  },
  "language_info": {
   "codemirror_mode": {
    "name": "ipython",
    "version": 3
   },
   "file_extension": ".py",
   "mimetype": "text/x-python",
   "name": "python",
   "nbconvert_exporter": "python",
   "pygments_lexer": "ipython3",
   "version": "3.7.6"
  }
 },
 "nbformat": 4,
 "nbformat_minor": 4
}
