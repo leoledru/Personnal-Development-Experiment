{
 "cells": [
  {
   "cell_type": "markdown",
   "metadata": {},
   "source": [
    "# Scipy, la boite à outil"
   ]
  },
  {
   "cell_type": "markdown",
   "metadata": {},
   "source": [
    "Scipy étant un regroupement d'outils assez divers, ce notebook sera l'occasion de passer *rapidement* en revue ses possibilités. Seul une petite partie des outils seront abordés."
   ]
  },
  {
   "cell_type": "code",
   "execution_count": null,
   "metadata": {},
   "outputs": [],
   "source": [
    "import matplotlib.pyplot as plt\n",
    "import numpy as np"
   ]
  },
  {
   "cell_type": "markdown",
   "metadata": {},
   "source": [
    "## Intégration et dérivation numérique\n",
    "\n",
    "Les routines sont disponibles dans `scipy.integrate`. Le cas se rencontre lorsque l'on a besoin d'intégrer une grandeur discrète (par exemple, passage de puissance à énergie). C'est l'opération inverse de la dérivée.\n",
    "\n",
    "Un certain nombre de routines existent, je vais me focaliser sur l'algorithme du trapèze pour l'intégration, et celui des différences finis pour le gradient."
   ]
  },
  {
   "cell_type": "code",
   "execution_count": null,
   "metadata": {},
   "outputs": [],
   "source": [
    "import scipy.integrate"
   ]
  },
  {
   "cell_type": "code",
   "execution_count": null,
   "metadata": {},
   "outputs": [],
   "source": [
    "data_power = np.loadtxt(\"../../data/pac_power/1.csv\", delimiter=\",\")\n",
    "days, hs = map(np.arange, data_power.shape)"
   ]
  },
  {
   "cell_type": "code",
   "execution_count": null,
   "metadata": {},
   "outputs": [],
   "source": [
    "plt.pcolormesh(hs, days, data_power)\n",
    "plt.colorbar()"
   ]
  },
  {
   "attachments": {
    "image.png": {
     "image/png": "[encoded data removed]"
    }
   },
   "cell_type": "markdown",
   "metadata": {},
   "source": [
    "### Algorithme du trapèze\n",
    "\n",
    "Il s'agira simplement d'approcher l'aire sous la courbe avec une approche géométrique. Au lieu d'utiliser des rectangle, on utilisera des trapèze, ce qui augmentera l'ordre d'approximation sans coût supplémentaire.\n",
    "\n",
    "![image.png](attachment:image.png)"
   ]
  },
  {
   "cell_type": "code",
   "execution_count": null,
   "metadata": {},
   "outputs": [],
   "source": [
    "for day, daily_power in zip(days, data_power):\n",
    "    print(f\"Day {day:02d} spent energy: {scipy.trapz(daily_power / 1000, x=hs):g} kWh\")"
   ]
  },
  {
   "cell_type": "markdown",
   "metadata": {},
   "source": [
    "Il est possible d'avoir accès aux données cumulés avec `cumtrapz`."
   ]
  },
  {
   "cell_type": "code",
   "execution_count": null,
   "metadata": {},
   "outputs": [],
   "source": [
    "fig, axs = plt.subplots(31, 2, figsize=(8, 16), sharex=\"all\", sharey=\"col\")\n",
    "for (ax_pow, ax_en), data in zip(axs, data_power):\n",
    "    ax_pow.plot(hs, data / 1000, color=\"black\")\n",
    "    ax_en.plot(hs, scipy.integrate.cumtrapz(data / 1000, dx=1, initial=0), color=\"black\")"
   ]
  },
  {
   "cell_type": "markdown",
   "metadata": {},
   "source": [
    "### Gradient et différences finis"
   ]
  },
  {
   "cell_type": "markdown",
   "metadata": {},
   "source": [
    "L'opération inverse de l'intégration est le gradient ou la dérivée. Un algorithme simple pour le calculer, fondés sur les développements limités, et la méthode des différences finis. Elle est implémenté dans `np.gradient`."
   ]
  },
  {
   "cell_type": "code",
   "execution_count": null,
   "metadata": {},
   "outputs": [],
   "source": [
    "power = data_power[0]\n",
    "energy = scipy.integrate.cumtrapz(power, initial=0)\n",
    "power_with_grad = np.gradient(energy, edge_order=2)\n",
    "plt.plot(power)\n",
    "plt.plot(power_with_grad)"
   ]
  },
  {
   "cell_type": "markdown",
   "metadata": {},
   "source": [
    "Compte tenu des approximations successives, il y a une perte d'information à chaque fois, en particulier lorsque le nombre de points est réduit.."
   ]
  },
  {
   "cell_type": "markdown",
   "metadata": {},
   "source": [
    "## Optimisation de base, ajustement de courbe de tendance"
   ]
  },
  {
   "cell_type": "markdown",
   "metadata": {},
   "source": [
    "L'optimisation mathématique a de nombreuses applications : calibration de modèle (ou de méta-modèles), ajustement de courbe de tendance, résolution de systèmes non linéaires. Les outils disponibles avec `scipy` concernent essentiellement les descentes de gradient et affilié (mais pas que). Pour des méthodes plus exotiques (algo genetique, machine learning, PSO...), d'autres librairies existent.\n",
    "\n",
    "Le sous module correspondant est `scipy.optimize`"
   ]
  },
  {
   "cell_type": "code",
   "execution_count": null,
   "metadata": {},
   "outputs": [],
   "source": [
    "import numpy as np\n",
    "import scipy.optimize"
   ]
  },
  {
   "cell_type": "markdown",
   "metadata": {},
   "source": [
    "### Ajustement de courbe\n",
    "On va utiliser `curve_fit` pour ajuster une fonction complexe à nos données."
   ]
  },
  {
   "cell_type": "code",
   "execution_count": null,
   "metadata": {},
   "outputs": [],
   "source": [
    "data_temperature = np.loadtxt(\"../../data/temperatures_ext_np.csv\", delimiter=\",\")\n",
    "h = np.arange(24)"
   ]
  },
  {
   "cell_type": "code",
   "execution_count": null,
   "metadata": {},
   "outputs": [],
   "source": [
    "plt.plot(h, data_temperature.mean(axis=1), color=\"black\")\n",
    "plt.xlim(0, 23)"
   ]
  },
  {
   "cell_type": "code",
   "execution_count": null,
   "metadata": {},
   "outputs": [],
   "source": [
    "def sinusoidal(h, T0, amplitude, ϕ):\n",
    "    freq = 1 / 24\n",
    "    return T0 + amplitude * np.cos((h + ϕ) * freq * 2 * np.pi)"
   ]
  },
  {
   "cell_type": "code",
   "execution_count": null,
   "metadata": {},
   "outputs": [],
   "source": [
    "plt.plot(h, sinusoidal(h, 6., 5., ϕ=11.))"
   ]
  },
  {
   "cell_type": "code",
   "execution_count": null,
   "metadata": {},
   "outputs": [],
   "source": [
    "y = data_temperature.mean(axis=1)\n",
    "sigma = data_temperature.std(axis=1)\n",
    "(T0, amplitude, ϕ), cov_matrix = scipy.optimize.curve_fit(sinusoidal, h, y, p0=[6., 5., 11.], sigma=sigma)"
   ]
  },
  {
   "cell_type": "code",
   "execution_count": null,
   "metadata": {},
   "outputs": [],
   "source": [
    "print(T0, amplitude, ϕ)"
   ]
  },
  {
   "cell_type": "code",
   "execution_count": null,
   "metadata": {},
   "outputs": [],
   "source": [
    "plt.plot(h, y, color=\"black\", marker=\"o\")\n",
    "plt.fill_between(h, y + sigma, y - sigma, color=\"black\", alpha=.2)\n",
    "h_fine = np.linspace(0, 23, 1000)\n",
    "plt.plot(h_fine, sinusoidal(h_fine, T0, amplitude, ϕ), color=\"red\")\n",
    "plt.xlim(0, 23)"
   ]
  },
  {
   "cell_type": "markdown",
   "metadata": {},
   "source": [
    "## Interpolation"
   ]
  },
  {
   "cell_type": "code",
   "execution_count": null,
   "metadata": {},
   "outputs": [],
   "source": [
    "import scipy.interpolate"
   ]
  },
  {
   "cell_type": "markdown",
   "metadata": {},
   "source": [
    "Il est parfois très utile d'interpoler des valeurs sur une grille, comme lorsqu'il manque des données de capteur ou qu'il faut aligner des données désordonnées. SciPy possède un grand nombre de routine permettant de faire des interpolations 1D, 2D ou plus."
   ]
  },
  {
   "cell_type": "code",
   "execution_count": null,
   "metadata": {},
   "outputs": [],
   "source": [
    "daily_data_temp = data_temperature[:, 0]\n",
    "plt.plot(h, daily_data_temp, marker=\"o\", linestyle=\"\", color=\"red\", zorder=10)\n",
    "\n",
    "interpolant_function = scipy.interpolate.interp1d(h, daily_data_temp)\n",
    "plt.plot(h_fine, interpolant_function(h_fine))\n",
    "\n",
    "interpolant_function = scipy.interpolate.interp1d(h, daily_data_temp, kind=\"cubic\")\n",
    "plt.plot(h_fine, interpolant_function(h_fine))\n",
    "\n",
    "interpolant_function = scipy.interpolate.interp1d(h, daily_data_temp, kind=\"nearest\")\n",
    "plt.plot(h_fine, interpolant_function(h_fine))\n",
    "plt.xlim(10, 15)"
   ]
  },
  {
   "cell_type": "code",
   "execution_count": null,
   "metadata": {},
   "outputs": [],
   "source": []
  }
 ],
 "metadata": {
  "kernelspec": {
   "display_name": "Python 3",
   "language": "python",
   "name": "python3"
  },
  "language_info": {
   "codemirror_mode": {
    "name": "ipython",
    "version": 3
   },
   "file_extension": ".py",
   "mimetype": "text/x-python",
   "name": "python",
   "nbconvert_exporter": "python",
   "pygments_lexer": "ipython3",
   "version": "3.7.4"
  }
 },
 "nbformat": 4,
 "nbformat_minor": 4
}
